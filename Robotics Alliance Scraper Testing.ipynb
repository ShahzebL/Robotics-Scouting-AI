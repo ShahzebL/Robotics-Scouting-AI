{
 "cells": [
  {
   "cell_type": "code",
   "execution_count": null,
   "metadata": {
    "scrolled": true
   },
   "outputs": [],
   "source": [
    "from selenium import webdriver\n",
    "from selenium.webdriver.common.keys import Keys\n",
    "import pandas as pd\n",
    "import numpy as np\n",
    "import json\n",
    "import urllib.request, json, requests\n",
    "user_agent = {'User-agent': 'Mozilla/5.0'}\n",
    "key = '?X-TBA-Auth-Key=nkRpKyrwQU3P6XtznbFVHyq57mGz3N6e4kYUCwjigdBR6C50VYZ8FoKngBIySCiU'\n",
    "alliances = []\n",
    "for i in range(len(events)):\n",
    "    print(i)\n",
    "    req = urllib.request.Request(\"https://www.thebluealliance.com/api/v3/event/\" + events[i] + \"/alliances\" + key, headers = user_agent)\n",
    "    with urllib.request.urlopen(req) as url:\n",
    "        temp = []\n",
    "        temp.append(events[i])\n",
    "        data = json.loads(url.read().decode())\n",
    "        temp.append(data)\n",
    "        alliances.append(temp)\n",
    "        \n",
    "        \n",
    "        \n",
    "        \n",
    "        "
   ]
  },
  {
   "cell_type": "code",
   "execution_count": null,
   "metadata": {},
   "outputs": [],
   "source": [
    "import urllib, requests, json\n",
    "def get_year_matches(year):\n",
    "    large_matches = []\n",
    "    user_agent = {'User-agent': 'Mozilla/5.0'}\n",
    "    key = '?X-TBA-Auth-Key=nkRpKyrwQU3P6XtznbFVHyq57mGz3N6e4kYUCwjigdBR6C50VYZ8FoKngBIySCiU'\n",
    "    req = urllib.request.Request(\"https://www.thebluealliance.com/api/v3/events/\" +str(year) + \"/keys\" + key, headers = user_agent)\n",
    "    with urllib.request.urlopen(req) as url:\n",
    "        events = json.loads(url.read().decode())\n",
    "        for event in events:\n",
    "            req_match = urllib.request.Request(\"https://www.thebluealliance.com/api/v3/event/\" +event + \"/matches/keys\" + key, headers = user_agent)\n",
    "            with urllib.request.urlopen(req_match) as url:\n",
    "                matches = json.loads(url.read().decode())\n",
    "                large_matches.append(matches)\n",
    "    unrolled_matches = []\n",
    "    for event in large_matches:\n",
    "        for match in event:\n",
    "            unrolled_matches.append(match)\n",
    "    return unrolled_matches"
   ]
  },
  {
   "cell_type": "code",
   "execution_count": null,
   "metadata": {},
   "outputs": [],
   "source": [
    "matches = get_year_matches(2019)"
   ]
  },
  {
   "cell_type": "code",
   "execution_count": null,
   "metadata": {},
   "outputs": [],
   "source": [
    "#Gets every single team that has attended a comp this year/ Can also be used to \n",
    "#calculate how many tournaments a team took part in\n",
    "def get_years_teams(year):\n",
    "    user_agent = {'User-agent': 'Mozilla/5.0'}\n",
    "    key = '?X-TBA-Auth-Key=nkRpKyrwQU3P6XtznbFVHyq57mGz3N6e4kYUCwjigdBR6C50VYZ8FoKngBIySCiU'\n",
    "    teams_big = []\n",
    "    req = urllib.request.Request(\"https://www.thebluealliance.com/api/v3/events/\" + str(year)+\"/keys\" + key, headers = user_agent)\n",
    "    with urllib.request.urlopen(req) as url:\n",
    "        events = json.loads(url.read().decode())\n",
    "    for i in range(len(events)):\n",
    "        req = urllib.request.Request(\"https://www.thebluealliance.com/api/v3/event/\" + events[i] + \"/teams/keys\" + key, headers = user_agent)\n",
    "        with urllib.request.urlopen(req) as url:\n",
    "            teams = json.loads(url.read().decode())\n",
    "            teams_big.append(teams)\n",
    "    unrolled_teams = []\n",
    "    for event in teams_big:\n",
    "        for team in event:\n",
    "            unrolled_teams.append(team)\n",
    "    return unrolled_teams"
   ]
  },
  {
   "cell_type": "code",
   "execution_count": null,
   "metadata": {},
   "outputs": [],
   "source": [
    "teams = get_years_teams(2019)"
   ]
  },
  {
   "cell_type": "code",
   "execution_count": null,
   "metadata": {
    "scrolled": true
   },
   "outputs": [],
   "source": [
    "#Gets alliance data\n",
    "import requests\n",
    "import urllib.request, json \n",
    "def get_alliances_year(year):\n",
    "    large_alliances= []\n",
    "    user_agent = {'User-agent': 'Mozilla/5.0'}\n",
    "    key = '?X-TBA-Auth-Key=nkRpKyrwQU3P6XtznbFVHyq57mGz3N6e4kYUCwjigdBR6C50VYZ8FoKngBIySCiU'\n",
    "    req = urllib.request.Request(\"https://www.thebluealliance.com/api/v3/events/\" + str(year)+\"/keys\" + key, headers = user_agent)\n",
    "    with urllib.request.urlopen(req) as url:\n",
    "        events = json.loads(url.read().decode())\n",
    "    for i in range(len(events)):\n",
    "        req = urllib.request.Request(\"https://www.thebluealliance.com/api/v3/event/\" + events[i] + \"/alliances\" + key, headers = user_agent)\n",
    "        with urllib.request.urlopen(req) as url:\n",
    "            alliance_dict = json.loads(url.read().decode())\n",
    "            alliance_selections = []\n",
    "            try:\n",
    "                for alliance in alliance_dict:\n",
    "                    picks = alliance['picks']\n",
    "                    alliance_selections.append(picks)\n",
    "                large_alliances.append([events[i],alliance_selections])\n",
    "            except:\n",
    "                pass\n",
    "    return large_alliances\n",
    "            "
   ]
  },
  {
   "cell_type": "code",
   "execution_count": null,
   "metadata": {},
   "outputs": [],
   "source": [
    "alliances = get_alliances_year(2019)"
   ]
  },
  {
   "cell_type": "code",
   "execution_count": null,
   "metadata": {},
   "outputs": [],
   "source": [
    "def create_alliance_selection_dict(alliance_selections_big):\n",
    "    d ={}\n",
    "    res =[]\n",
    "    for selections in alliance_selections_big:\n",
    "        for j in range(8):\n",
    "            try:\n",
    "                for i in range(len(selections[1][j])):\n",
    "                    arr = [selections[0],0,0,0,0,0]\n",
    "                    arr[i+1] = j+1\n",
    "                    if selections[1][j][i][3:] not in d.keys():\n",
    "                        res.append(arr)\n",
    "                        d[selections[1][j][i][3:]] = tuple(res)\n",
    "                        res = []\n",
    "                    else:\n",
    "                        res = list(d[selections[1][j][i][3:]])\n",
    "                        res.append(arr)\n",
    "                        d[selections[1][j][i][3:]] = tuple(res)\n",
    "                        res = []\n",
    "            except:\n",
    "                pass\n",
    "    return d"
   ]
  },
  {
   "cell_type": "code",
   "execution_count": null,
   "metadata": {},
   "outputs": [],
   "source": [
    "d = create_alliance_selection_dict(alliances)"
   ]
  },
  {
   "cell_type": "code",
   "execution_count": null,
   "metadata": {},
   "outputs": [],
   "source": [
    "#Adds the dnp option by reasoning how many events they were in versus the number of alliances they were in\n",
    "def add_dnps(dictionary,teams):\n",
    "    for team in dictionary:\n",
    "        if(team[-1]==\"B\"):\n",
    "            team=team[:-1]\n",
    "        temp = teams.count(\"frc\"+str(team))-len(dictionary[team])\n",
    "        arr = ['DNP',0,0,0,0,1]\n",
    "        for i in range(temp):\n",
    "            res = list(dictionary[team])\n",
    "            res.append(arr)\n",
    "            dictionary[team] = tuple(res)\n",
    "    return dictionary"
   ]
  },
  {
   "cell_type": "code",
   "execution_count": null,
   "metadata": {},
   "outputs": [],
   "source": [
    "d = add_dnps(d,teams)"
   ]
  },
  {
   "cell_type": "code",
   "execution_count": null,
   "metadata": {},
   "outputs": [],
   "source": []
  },
  {
   "cell_type": "code",
   "execution_count": null,
   "metadata": {},
   "outputs": [],
   "source": [
    "def get_match_data(matchid,event):\n",
    "    match_data = []\n",
    "    user_agent = {'User-agent': 'Mozilla/5.0'}\n",
    "    key = '?X-TBA-Auth-Key=nkRpKyrwQU3P6XtznbFVHyq57mGz3N6e4kYUCwjigdBR6C50VYZ8FoKngBIySCiU'\n",
    "    req = urllib.request.Request(\"https://www.thebluealliance.com/api/v3/match/\" + matchid + key, headers = user_agent)\n",
    "    with urllib.request.urlopen(req) as url:\n",
    "        match = json.loads(url.read().decode())\n",
    "    for i in range(2):\n",
    "        if i ==0:\n",
    "            color = 'blue'\n",
    "        else:\n",
    "            color = \"red\"\n",
    "        teams = match['alliances'][color]['team_keys']\n",
    "        score = match['alliances'][color]['score']\n",
    "        if match['score_breakdown'][color]['bay1']==\"PanelAndCargo\":\n",
    "            bay1h = 1\n",
    "            bay1c = 1\n",
    "        elif match['score_breakdown'][color]['bay1']==\"Panel\":\n",
    "            bay1h = 1\n",
    "            bay1c = 0\n",
    "        else:\n",
    "            bay1h = 0\n",
    "            bay1c = 0\n",
    "        if match['score_breakdown'][color]['bay2']==\"PanelAndCargo\":\n",
    "            bay2h = 1\n",
    "            bay2c = 1\n",
    "        elif match['score_breakdown'][color]['bay2']==\"Panel\":\n",
    "            bay2h = 1\n",
    "            bay2c = 0\n",
    "        else:\n",
    "            bay2h = 0\n",
    "            bay2c = 0\n",
    "        if match['score_breakdown'][color]['bay3']==\"PanelAndCargo\":\n",
    "            bay3h = 1\n",
    "            bay3c = 1\n",
    "        elif match['score_breakdown'][color]['bay3']==\"Panel\":\n",
    "            bay3h = 1\n",
    "            bay3c = 0\n",
    "        else:\n",
    "            bay3h = 0\n",
    "            bay3c = 0\n",
    "        if match['score_breakdown'][color]['bay4']==\"PanelAndCargo\":\n",
    "            bay4h = 1\n",
    "            bay4c = 1\n",
    "        elif match['score_breakdown'][color]['bay4']==\"Panel\":\n",
    "            bay4h = 1\n",
    "            bay4c = 0\n",
    "        else:\n",
    "            bay4h = 0\n",
    "            bay4c = 0\n",
    "        if match['score_breakdown'][color]['bay5']==\"PanelAndCargo\":\n",
    "            bay5h = 1\n",
    "            bay5c = 1\n",
    "        elif match['score_breakdown'][color]['bay5']==\"Panel\":\n",
    "            bay5h = 1\n",
    "            bay5c = 0\n",
    "        else:\n",
    "            bay5h = 0\n",
    "            bay5c = 0\n",
    "        if match['score_breakdown'][color]['bay6']==\"PanelAndCargo\":\n",
    "            bay6h = 1\n",
    "            bay6c = 1\n",
    "        elif match['score_breakdown'][color]['bay6']==\"Panel\":\n",
    "            bay6h = 1\n",
    "            bay6c = 0\n",
    "        else:\n",
    "            bay6h = 0\n",
    "            bay6c = 0\n",
    "        if match['score_breakdown'][color]['bay7']==\"PanelAndCargo\":\n",
    "            bay7h = 1\n",
    "            bay7c = 1\n",
    "        elif match['score_breakdown'][color]['bay7']==\"Panel\":\n",
    "            bay7h = 1\n",
    "            bay7c = 0\n",
    "        else:\n",
    "            bay7h = 0\n",
    "            bay7c = 0\n",
    "        if match['score_breakdown'][color]['bay8']==\"PanelAndCargo\":\n",
    "            bay8h = 1\n",
    "            bay8c = 1\n",
    "        elif match['score_breakdown'][color]['bay8']==\"Panel\":\n",
    "            bay8h = 1\n",
    "            bay8c = 0\n",
    "        else:\n",
    "            bay8h = 0\n",
    "            bay8c = 0\n",
    "        auto_points = match['score_breakdown'][color]['sandStormBonusPoints']\n",
    "        if match['score_breakdown'][color]['endgameRobot1'][0] == \"H\":\n",
    "            robot1_climb = int(float(match['score_breakdown'][color]['endgameRobot1'][-1]))\n",
    "        else:\n",
    "            robot1_climb = 0\n",
    "        if match['score_breakdown'][color]['endgameRobot2'][0] == \"H\":\n",
    "            robot2_climb = int(float(match['score_breakdown'][color]['endgameRobot2'][-1]))\n",
    "        else:\n",
    "            robot2_climb = 0\n",
    "        if match['score_breakdown'][color]['endgameRobot3'][0] == \"H\":\n",
    "            robot3_climb = int(float(match['score_breakdown'][color]['endgameRobot3'][-1]))\n",
    "        else:\n",
    "            robot3_climb = 0\n",
    "\n",
    "        if match['score_breakdown'][color]['preMatchBay1']==\"Panel\":\n",
    "            bay1_preh = 1\n",
    "            bay1_prec = 0\n",
    "        else:\n",
    "            bay1_preh = 0\n",
    "            bay1_prec = 1\n",
    "        if match['score_breakdown'][color]['preMatchBay2']==\"Panel\":\n",
    "            bay2_preh = 1\n",
    "            bay2_prec = 0\n",
    "        else:\n",
    "            bay2_preh = 0\n",
    "            bay2_prec = 1\n",
    "        if match['score_breakdown'][color]['preMatchBay3']==\"Panel\":\n",
    "            bay3_preh = 1\n",
    "            bay3_prec = 0\n",
    "        else:\n",
    "            bay3_preh = 0\n",
    "            bay3_prec = 1\n",
    "        if match['score_breakdown'][color]['preMatchBay6']==\"Panel\":\n",
    "            bay6_preh = 1\n",
    "            bay6_prec = 0\n",
    "        else:\n",
    "            bay6_preh = 0\n",
    "            bay6_prec = 1\n",
    "        if match['score_breakdown'][color]['preMatchBay7']==\"Panel\":\n",
    "            bay7_preh = 1\n",
    "            bay7_prec = 0\n",
    "        else:\n",
    "            bay7_preh = 0\n",
    "            bay7_prec = 1\n",
    "        if match['score_breakdown'][color]['preMatchBay8']==\"Panel\":\n",
    "            bay8_preh = 1\n",
    "            bay8_prec = 0\n",
    "        else:\n",
    "            bay8_preh = 0\n",
    "            bay8_prec = 1\n",
    "        try:\n",
    "            robot1_hab_start = int(float(match['score_breakdown'][color]['preMatchLevelRobot1'][-1]))\n",
    "        except:\n",
    "            robot1_hab_start = 0\n",
    "        try:\n",
    "            robot2_hab_start = int(float(match['score_breakdown'][color]['preMatchLevelRobot2'][-1]))\n",
    "        except:\n",
    "            robot2_hab_start = 0\n",
    "        try:\n",
    "            robot3_hab_start = int(float(match['score_breakdown'][color]['preMatchLevelRobot3'][-1]))\n",
    "        except:\n",
    "            robot3_hab_start = 0\n",
    "\n",
    "        if match['score_breakdown'][color]['lowLeftRocketFar'] == \"PanelAndCargo\":\n",
    "            llrfh = 1\n",
    "            llrfc = 1\n",
    "        elif match['score_breakdown'][color]['lowLeftRocketFar'] == \"Panel\":\n",
    "            llrfh = 1\n",
    "            llrfc = 0\n",
    "        else:\n",
    "            llrfh = 0\n",
    "            llrfc = 0\n",
    "        if match['score_breakdown'][color]['lowLeftRocketNear'] == \"PanelAndCargo\":\n",
    "            llrnh = 1\n",
    "            llrnc = 1\n",
    "        elif match['score_breakdown'][color]['lowLeftRocketNear'] == \"Panel\":\n",
    "            llrnh = 1\n",
    "            llrnc = 0\n",
    "        else:\n",
    "            llrnh = 0\n",
    "            llrnc = 0\n",
    "        if match['score_breakdown'][color]['lowRightRocketFar'] == \"PanelAndCargo\":\n",
    "            lrrfh = 1\n",
    "            lrrfc = 1\n",
    "        elif match['score_breakdown'][color]['lowRightRocketFar'] == \"Panel\":\n",
    "            lrrfh = 1\n",
    "            lrrfc = 0\n",
    "        else:\n",
    "            lrrfh = 0\n",
    "            lrrfc = 0\n",
    "        if match['score_breakdown'][color]['lowRightRocketNear'] == \"PanelAndCargo\":\n",
    "            lrrnh = 1\n",
    "            lrrnc = 1\n",
    "        elif match['score_breakdown'][color]['lowRightRocketNear'] == \"Panel\":\n",
    "            lrrnh = 1\n",
    "            lrrnc = 0\n",
    "        else:\n",
    "            lrrnh = 0\n",
    "            lrrnc = 0\n",
    "\n",
    "        if match['score_breakdown'][color]['midLeftRocketFar'] == \"PanelAndCargo\":\n",
    "            mlrfh = 1\n",
    "            mlrfc = 1\n",
    "        elif match['score_breakdown'][color]['midLeftRocketFar'] == \"Panel\":\n",
    "            mlrfh = 1\n",
    "            mlrfc = 0\n",
    "        else:\n",
    "            mlrfh = 0\n",
    "            mlrfc = 0\n",
    "        if match['score_breakdown'][color]['midLeftRocketNear'] == \"PanelAndCargo\":\n",
    "            mlrnh = 1\n",
    "            mlrnc = 1\n",
    "        elif match['score_breakdown'][color]['midLeftRocketNear'] == \"Panel\":\n",
    "            mlrnh = 1\n",
    "            mlrnc = 0\n",
    "        else:\n",
    "            mlrnh = 0\n",
    "            mlrnc = 0\n",
    "        if match['score_breakdown'][color]['midRightRocketFar'] == \"PanelAndCargo\":\n",
    "            mrrfh = 1\n",
    "            mrrfc = 1\n",
    "        elif match['score_breakdown'][color]['midRightRocketFar'] == \"Panel\":\n",
    "            mrrfh = 1\n",
    "            mrrfc = 0\n",
    "        else:\n",
    "            mrrfh = 0\n",
    "            mrrfc = 0\n",
    "        if match['score_breakdown'][color]['midRightRocketNear'] == \"PanelAndCargo\":\n",
    "            mrrnh = 1\n",
    "            mrrnc = 1\n",
    "        elif match['score_breakdown'][color]['midRightRocketNear'] == \"Panel\":\n",
    "            mrrnh = 1\n",
    "            mrrnc = 0\n",
    "        else:\n",
    "            mrrnh = 0\n",
    "            mrrnc = 0\n",
    "\n",
    "        if match['score_breakdown'][color]['topLeftRocketFar'] == \"PanelAndCargo\":\n",
    "            tlrfh = 1\n",
    "            tlrfc = 1\n",
    "        elif match['score_breakdown'][color]['topLeftRocketFar'] == \"Panel\":\n",
    "            tlrfh = 1\n",
    "            tlrfc = 0\n",
    "        else:\n",
    "            tlrfh = 0\n",
    "            tlrfc = 0\n",
    "        if match['score_breakdown'][color]['topLeftRocketNear'] == \"PanelAndCargo\":\n",
    "            tlrnh = 1\n",
    "            tlrnc = 1\n",
    "        elif match['score_breakdown'][color]['topLeftRocketNear'] == \"Panel\":\n",
    "            tlrnh = 1\n",
    "            tlrnc = 0\n",
    "        else:\n",
    "            tlrnh = 0\n",
    "            tlrnc = 0\n",
    "        if match['score_breakdown'][color]['topRightRocketFar'] == \"PanelAndCargo\":\n",
    "            trrfh = 1\n",
    "            trrfc = 1\n",
    "        elif match['score_breakdown'][color]['topRightRocketFar'] == \"Panel\":\n",
    "            trrfh = 1\n",
    "            trrfc = 0\n",
    "        else:\n",
    "            trrfh = 0\n",
    "            trrfc = 0\n",
    "        if match['score_breakdown'][color]['topRightRocketNear'] == \"PanelAndCargo\":\n",
    "            trrnh = 1\n",
    "            trrnc = 1\n",
    "        elif match['score_breakdown'][color]['topRightRocketNear']  == \"Panel\":\n",
    "            trrnh = 1\n",
    "            trrnc = 0\n",
    "        else:\n",
    "            trrnh = 0\n",
    "            trrnc = 0\n",
    "\n",
    "        match_data.append([event,[teams, score,robot1_hab_start,robot2_hab_start,robot3_hab_start,auto_points,bay1_preh, bay1_prec,bay2_preh,bay2_prec,bay3_preh,bay3_prec,\n",
    "                      bay6_preh,bay6_prec,bay7_preh,bay7_prec,bay8_preh,bay8_prec,bay1h,bay1c,bay2h,bay2c,bay3h,bay3c,bay4h,bay4c,\n",
    "                      bay5h,bay5c,bay6h,bay6c,bay7h,bay7c,bay8h,bay8c,\n",
    "                     robot1_climb,robot2_climb,robot3_climb,llrfh,llrfc,llrnh,llrnc,lrrfh,lrrfc,lrrnh,lrrnc,mlrfh,mlrfc\n",
    "                      ,mlrnh,mlrnc,mrrfh,mrrfc,mrrnh,mrrnc,tlrfh,tlrfc,tlrnh,tlrnc,trrfh,trrfc,trrnh,trrnc]])\n",
    "    return match_data"
   ]
  },
  {
   "cell_type": "code",
   "execution_count": null,
   "metadata": {},
   "outputs": [],
   "source": [
    "def get_matches_data(matches):\n",
    "    arr =[]\n",
    "    for match in matches:\n",
    "        print(matches.index(match))\n",
    "        try:\n",
    "            arr.append(get_match_data(match,match.split(\"_\")[0][4:]))\n",
    "        except:\n",
    "            pass\n",
    "    return arr"
   ]
  },
  {
   "cell_type": "code",
   "execution_count": null,
   "metadata": {},
   "outputs": [],
   "source": [
    "def get_all_match_data(year):\n",
    "    matches = get_year_matches(2019)\n",
    "    match_data = get_matches_data(matches)\n",
    "    return match_data\n",
    "        \n",
    "        "
   ]
  },
  {
   "cell_type": "code",
   "execution_count": null,
   "metadata": {},
   "outputs": [],
   "source": []
  },
  {
   "cell_type": "code",
   "execution_count": null,
   "metadata": {},
   "outputs": [],
   "source": [
    "match_data = get_all_match_data(2019)"
   ]
  },
  {
   "cell_type": "code",
   "execution_count": null,
   "metadata": {},
   "outputs": [],
   "source": []
  },
  {
   "cell_type": "markdown",
   "metadata": {},
   "source": []
  },
  {
   "cell_type": "code",
   "execution_count": null,
   "metadata": {},
   "outputs": [],
   "source": [
    "alliance_selection_dict= {tuple([1,0,0,0,0]):420,tuple([2,0,0,0,0]):360,tuple([3,0,0,0,0]):300,tuple([4,0,0,0,0]):240,tuple([5,0,0,0,0]):200,tuple([6,0,0,0,0]):170,tuple([7,0,0,0,0]):150,tuple([8,0,0,0,0]):130,\n",
    "                          tuple([0,1,0,0,0]):350,tuple([0,2,0,0,0]):290,tuple([0,3,0,0,0]):240,tuple([0,4,0,0,0]):200,tuple([0,5,0,0,0]):170,tuple([0,6,0,0,0]):150,tuple([0,7,0,0,0]):130,tuple([0,8,0,0,0]):120,\n",
    "                          tuple([0,0,1,0,0]):70, tuple([0,0,2,0,0]):75, tuple([0,0,3,0,0]):80, tuple([0,0,4,0,0]):85, tuple([0,0,5,0,0]):90, tuple([0,0,6,0,0]):95, tuple([0,0,7,0,0]):100,tuple([0,0,8,0,0]):110,\n",
    "                          tuple([0,0,0,1,0]):65, tuple([0,0,0,2,0]):65, tuple([0,0,0,3,0]):60, tuple([0,0,0,4,0]):60, tuple([0,0,0,5,0]):55, tuple([0,0,0,6,0]):55, tuple([0,0,0,7,0]):50, tuple([0,0,0,8,0]):50,\n",
    "                          tuple([0,0,0,0,1]):10}"
   ]
  },
  {
   "cell_type": "code",
   "execution_count": null,
   "metadata": {},
   "outputs": [],
   "source": [
    "alliance_selection_dict_defense = {tuple([1,0,0,0,0]):40,tuple([2,0,0,0,0]):40,tuple([3,0,0,0,0]):40,tuple([4,0,0,0,0]):40,tuple([5,0,0,0,0]):40,tuple([6,0,0,0,0]):40,tuple([7,0,0,0,0]):40,tuple([8,0,0,0,0]):40,\n",
    "                                   tuple([0,1,0,0,0]):40,tuple([0,2,0,0,0]):40,tuple([0,3,0,0,0]):40,tuple([0,4,0,0,0]):40,tuple([0,5,0,0,0]):40,tuple([0,6,0,0,0]):80,tuple([0,7,0,0,0]):120,tuple([0,8,0,0,0]):160,\n",
    "                                   tuple([0,0,1,0,0]):120, tuple([0,0,2,0,0]):130, tuple([0,0,3,0,0]):140, tuple([0,0,4,0,0]):150, tuple([0,0,5,0,0]):160, tuple([0,0,6,0,0]):170, tuple([0,0,7,0,0]):180,tuple([0,0,8,0,0]):190,\n",
    "                                   tuple([0,0,0,1,0]):100, tuple([0,0,0,2,0]):100, tuple([0,0,0,3,0]):90, tuple([0,0,0,4,0]):90, tuple([0,0,0,5,0]):90, tuple([0,0,0,6,0]):80, tuple([0,0,0,7,0]):80, tuple([0,0,0,8,0]):80,\n",
    "                                   tuple([0,0,0,0,1]):10}"
   ]
  },
  {
   "cell_type": "code",
   "execution_count": null,
   "metadata": {},
   "outputs": [],
   "source": [
    "event_dict = {\n",
    "    'caav':2,'azfl':3,'azpx':2,'arli':3,'lake':2,'tuis2':1,'ohcl':3,\n",
    "    'bcvi':2,'abca':2,'ilpe':2,'mokc3':2,'nyut':2,'cafr':4,'code':3,\n",
    "    'cadm':3,'qcmo':2,'qcqc':2,'nyro':3 ,'ndgf':3,'mokc':2,'paca':3,\n",
    "    'hiho':2,'ksla':2,'nysu':2,'idbo':3,'iacf':3,'tuis':1,'mndu':3,\n",
    "    'nvlv':2,'caln':3,'cala':3,'ohmv':3,'ilch':3,'mnmi':3,'mnmi2':3,\n",
    "    'camb':3,'nyny':4,'nytr':2,'mndu2':3,'okok':3,'caoc':3,'flor':3,\n",
    "    'scmb':3,'mxcm':1,'mxto':1,'mxmo':1,'alhu':2,'cada':4,'casd':3,\n",
    "    'casf':4,'nyli2':2,'nyli':2,'wila':3,'casj':4,'tnkn':3,'flwp':3,\n",
    "    'ausp':4,'ausc':3,'mosl':2,'utwv':3,'cave':3,'wimi':3,'mdbet':2,\n",
    "    'vabla':2,'vahay':2,'mdowi':2,'mdoxo':2,'vapor':2,'vagle':2,'mialp':2,\n",
    "    'mial2':2,'mibel':2,'micen':2,'midet':2,'miken':2,'mifor':2,'migib':2,\n",
    "    'migul':2,'mijac':2,'miket':2,'mike2':2,'mikng':2,'milsu':2,'milak':2,\n",
    "    'milan':2,'milin':2,'miliv':2,'mimar':2,'mimid':2,'mimil':2,'mimus':2,\n",
    "    'mishe':2,'misou':2,'misjo':2,'mitvc':2,'mitry':2,'miwmi':2,'txama':2,\n",
    "    'txaus':2,'txcha':2,'txdls':2,'txdel':2,'txelp':1,'txgre':2,'txpas':2,\n",
    "    'txpla':2,'txsan':2,'paben':2,'njbri':2,'pahat':2,'njski':2,'njfla':2,\n",
    "    'njtab':2,'paphi':2,'pawch':2,'ncgui':2,'ncash':2,'ncpem':2,'ncwak':2,\n",
    "    'ingre':2,'inmis':2,'inwla':2,'isde1':2,'isde2':2,'isde3':2,'isde4':2,\n",
    "    'macma':2,'nhgrs':2,'mabos':1,'cthar':2,'marea':2,'melew':2,'rismi':2,\n",
    "    'mabri':2,'nhsnh':2,'nhdur':2,'ctwat':2,'mawne':2,'onosh':2,'onbar':2,\n",
    "    'onto3':2,'onham':2,'onnob':2,'onto1':2,'onwat':2,'onlon':2,'onwin':2,\n",
    "    'onnyo':2,'gaalb':2,'gacol':2,'gadal':2,'gafor':2,'gagai':2,'waahs':2,\n",
    "    'waamv':2,'orore':2,'wasno':2,'orlak':2,'wamou':2,'wayak':2,'waspo':1,\n",
    "    'orwil':2,'chchmp':3,'ftcmp':4,'iscmp':1,'mrcmp':4,'nccmp':2,'incmp':2,\n",
    "    'necmp':4,'pncmp':4,'gacmp':2,'arc':5,'cars':5,'cur':5,\n",
    "    'dal':5,'dar':5,'tes':5,'carv':5,'gal':5,'hop':5,'new':5,\n",
    "    'roe':5,'tur':5,'cmpmi':5,'cmptx':5,'oncmp':3,'micmp':4,'oncmp1':2,\n",
    "    'oncmp2':2,'micmp2':3,'micmp4':3,'micmp1':3,'micmp3':3, 'zhrcc':3,'cc':4,'caelk':2\n",
    "    \n",
    "}"
   ]
  },
  {
   "cell_type": "code",
   "execution_count": null,
   "metadata": {},
   "outputs": [],
   "source": [
    "d['1072']"
   ]
  },
  {
   "cell_type": "code",
   "execution_count": null,
   "metadata": {},
   "outputs": [],
   "source": [
    "#Formats the [event,1,0,0,0,0] list into ['event', score,'event',score] for defense\n",
    "def convert_selections_defense(dictionary): \n",
    "    f = {}\n",
    "    for team in dictionary:\n",
    "        for item in dictionary[team]:\n",
    "            try:\n",
    "                f[item[0][4:]+\" \"+team] = alliance_selection_dict_defense[tuple(item[1:])]*event_dict[item[0][4:]]\n",
    "            except:\n",
    "                f[item[0][4:]+\" \"+team] = alliance_selection_dict_defense[tuple(item[1:])]\n",
    "    return f\n",
    "    "
   ]
  },
  {
   "cell_type": "code",
   "execution_count": null,
   "metadata": {},
   "outputs": [],
   "source": [
    "#Formats the [event,1,0,0,0,0] list into ['event', score,'event',score] for defense\n",
    "def convert_selections_offense(dictionary): \n",
    "    f = {}\n",
    "    for team in dictionary:\n",
    "        for item in dictionary[team]:\n",
    "            try:\n",
    "                f[item[0][4:]+\" \"+team] = alliance_selection_dict[tuple(item[1:])]*event_dict[item[0][4:]]\n",
    "            except:\n",
    "                f[item[0][4:]+\" \"+team] = alliance_selection_dict[tuple(item[1:])]\n",
    "    return f\n",
    "    "
   ]
  },
  {
   "cell_type": "code",
   "execution_count": null,
   "metadata": {},
   "outputs": [],
   "source": [
    "f = convert_selections_offense(d)\n",
    "g = convert_selections_defense(d)"
   ]
  },
  {
   "cell_type": "code",
   "execution_count": null,
   "metadata": {},
   "outputs": [],
   "source": [
    "# Creates a dictionary for matches that take in a key['cafr 1072'] and output the match data vector\n",
    "def convert_match_data_to_dict_offense(match_data):\n",
    "    match_dict = {}\n",
    "    res = []\n",
    "    for match in match_data:\n",
    "        for alliances in match:\n",
    "            for team in alliances[1][0]:\n",
    "                if alliances[0]+\" \" +team not in match_dict.keys():\n",
    "                    index = alliances[1][0].index(team)\n",
    "                    arr = []\n",
    "                    arr.append(alliances[1][1])\n",
    "                    arr.append(alliances[1][index+2])\n",
    "                    for i in range(29):\n",
    "                        arr.append(alliances[1][5+i])\n",
    "                    arr.append(alliances[1][index+34])\n",
    "                    for i in range(24):\n",
    "                        arr.append(alliances[1][37+i])\n",
    "\n",
    "                    res.append(arr) \n",
    "                    match_dict[alliances[0]+\" \"+team] = res\n",
    "                    res = []\n",
    "                else:\n",
    "                    res = match_dict[alliances[0]+\" \"+team]\n",
    "                    index = alliances[1][0].index(team)\n",
    "                    arr = []\n",
    "                    arr.append(alliances[1][1])\n",
    "                    arr.append(alliances[1][index+2])\n",
    "                    for i in range(29):\n",
    "                        arr.append(alliances[1][5+i])\n",
    "                    arr.append(alliances[1][index+34])\n",
    "                    for i in range(24):\n",
    "                        arr.append(alliances[1][37+i])\n",
    "                    res.append(arr)\n",
    "                    match_dict[alliances[0]+\" \"+team] = res\n",
    "                    res = []\n",
    "    return match_dict"
   ]
  },
  {
   "cell_type": "code",
   "execution_count": null,
   "metadata": {},
   "outputs": [],
   "source": [
    "print(match_dict_defense['hop frc1072'][0][0][0])\n",
    "#print(average_match_dict['hop frc4183'])\n"
   ]
  },
  {
   "cell_type": "code",
   "execution_count": null,
   "metadata": {},
   "outputs": [],
   "source": [
    "# Creates a dictionary for matches that take in a key['cafr 1072'] and output the match data vector\n",
    "# Doesn't work yet\n",
    "def convert_match_data_to_dict_defense_part1(match_data):\n",
    "    match_dict = {}\n",
    "    res = []\n",
    "    for match in match_data:\n",
    "        for j in range(len(match)):\n",
    "            for team in match[j][1][0]:\n",
    "                if match[j][0]+\" \" +team not in match_dict.keys():\n",
    "                    arr = []\n",
    "                    arr.append(match[1-j][1])\n",
    "                    res.append(arr) \n",
    "                    match_dict[match[j][0]+\" \"+team] = res\n",
    "                    res = []\n",
    "                else:\n",
    "                    res = match_dict[match[j][0]+\" \"+team]\n",
    "                    arr = []\n",
    "                    arr.append(match[1-j][1])\n",
    "                    res.append(arr)\n",
    "                    match_dict[match[j][0]+\" \"+team] = res\n",
    "                    res = []\n",
    "    return match_dict"
   ]
  },
  {
   "cell_type": "code",
   "execution_count": null,
   "metadata": {},
   "outputs": [],
   "source": [
    "match_dict_defense['hop frc1072'][0]"
   ]
  },
  {
   "cell_type": "code",
   "execution_count": null,
   "metadata": {},
   "outputs": [],
   "source": [
    "def convert_defense_match_dict_to_average(match_dict):\n",
    "    \n",
    "    for key in match_dict:\n",
    "        ave = np.zeros(56)\n",
    "        match_datas = np.zeros(56)\n",
    "        event = key.split(\" \")[0]\n",
    "        for match in match_dict[key]:\n",
    "            teams = match[0][0]\n",
    "            for team in teams:\n",
    "                ave = ave+np.asarray(average_match_dict[event + \" \" + team])\n",
    "            match_data = match[0][1:]\n",
    "            for i in range(56):\n",
    "                match_datas[i] = match_datas[i] + match_data[i]\n",
    "            error = np.zeros(56)\n",
    "            for i in range(len(ave)):\n",
    "                ave[i] = ave[i] /3 /len(match_dict[key])\n",
    "            for i in range(len(match_datas)):\n",
    "                match_datas[i] = match_datas[i] / len(match_dict[key])\n",
    "            error = error + ave-match_datas\n",
    "        error = error/ len(match_dict[key])\n",
    "        match_dict[key] = error\n",
    "            \n",
    "    return match_dict\n",
    "                           \n",
    "        "
   ]
  },
  {
   "cell_type": "code",
   "execution_count": null,
   "metadata": {},
   "outputs": [],
   "source": [
    "'''def convert_defense_match_dict_to_average(match_dict_defense):\n",
    "    res= []\n",
    "    for key in match_dict_defense:\n",
    "        team  = key.split(\" \")[1]\n",
    "        event = key.split(\" \")[0]\n",
    "        total_error = np.zeros(56)\n",
    "        for match in match_dict_defense[key]:\n",
    "            \n",
    "            error = np.zeros(56)\n",
    "            teams = match[0][0]\n",
    "            ave = np.zeros(56)\n",
    "            for i in range(3):\n",
    "                for j in range(len(average_match_dict[event+\" \"+teams[i]])):\n",
    "                    ave[j] = ave[j] + average_match_dict[event+\" \"+teams[i]][j]\n",
    "            for i in range(len(arr)):\n",
    "                ave[i] = ave[i]/3\n",
    "            for i in range(3):\n",
    "                error[0] = error[0]+ave[0]-match[0][1]\n",
    "                error[1] = error[1]+ave[1]-match[0][2+i]\n",
    "                for j in range(29):\n",
    "                    error[j+2] = error[j+2] +ave[j+2]-match[0][5+j]\n",
    "                error[31] = error[31]+ave[31]-match[0][i+34]\n",
    "                for j in range(24):\n",
    "                    error[j+32] = error[j+32] +ave[j+32]-match[0][37+j]\n",
    "            for i in range(len(error)):\n",
    "                error[i] = error[i]/3\n",
    "            \n",
    "        for i in range(len(error)):\n",
    "            error[i] = error[i]/len(match_dict_defense[key])\n",
    "        match_dict_defense[key] = error\n",
    "    return match_dict_defense\n",
    "            \n",
    "                \n",
    "   '''         "
   ]
  },
  {
   "cell_type": "code",
   "execution_count": null,
   "metadata": {},
   "outputs": [],
   "source": [
    "match_dict_defense['cafr frc1072'][0]"
   ]
  },
  {
   "cell_type": "code",
   "execution_count": null,
   "metadata": {},
   "outputs": [],
   "source": [
    "average_match_dict[\"cafr frc1072\"]"
   ]
  },
  {
   "cell_type": "code",
   "execution_count": null,
   "metadata": {},
   "outputs": [],
   "source": [
    "import numpy as np\n",
    "#Averages the match values in the ccc match dictionary\n",
    "def average_dict(match_dict):\n",
    "    for key in match_dict:\n",
    "        arr = np.zeros(56)\n",
    "        for match in match_dict[key]:\n",
    "            for i in range(56):\n",
    "                arr[i] = arr[i] + match[i]\n",
    "        for j in range(56):\n",
    "            arr[j] = arr[j] / len(match_dict[key])\n",
    "        match_dict[key] = arr\n",
    "    return match_dict"
   ]
  },
  {
   "cell_type": "code",
   "execution_count": null,
   "metadata": {},
   "outputs": [],
   "source": []
  },
  {
   "cell_type": "code",
   "execution_count": null,
   "metadata": {},
   "outputs": [],
   "source": [
    "match_dict = convert_match_data_to_dict_offense(match_data)\n",
    "match_dict_defense = convert_match_data_to_dict_defense_part1(match_data)\n"
   ]
  },
  {
   "cell_type": "code",
   "execution_count": null,
   "metadata": {},
   "outputs": [],
   "source": []
  },
  {
   "cell_type": "code",
   "execution_count": null,
   "metadata": {},
   "outputs": [],
   "source": [
    "average_match_dict = average_dict(match_dict)\n",
    "match_dict_defense_averaged = convert_defense_match_dict_to_average(match_dict_defense)"
   ]
  },
  {
   "cell_type": "code",
   "execution_count": null,
   "metadata": {},
   "outputs": [],
   "source": [
    "match_dict_defense_averaged['cafr frc1072']"
   ]
  },
  {
   "cell_type": "code",
   "execution_count": null,
   "metadata": {},
   "outputs": [],
   "source": [
    "np.save(\"match dict defense averaged.npy\", match_dict_defense_averaged)"
   ]
  },
  {
   "cell_type": "code",
   "execution_count": null,
   "metadata": {},
   "outputs": [],
   "source": [
    "np.save(\"alliance selection dict for defense.npy\",g)"
   ]
  },
  {
   "cell_type": "code",
   "execution_count": null,
   "metadata": {},
   "outputs": [],
   "source": [
    "average_match_dict['hop frc1072']"
   ]
  },
  {
   "cell_type": "code",
   "execution_count": null,
   "metadata": {},
   "outputs": [],
   "source": [
    "avergae_match_dict_defense['hop frc1072']"
   ]
  },
  {
   "cell_type": "code",
   "execution_count": null,
   "metadata": {},
   "outputs": [],
   "source": []
  },
  {
   "cell_type": "code",
   "execution_count": null,
   "metadata": {},
   "outputs": [],
   "source": []
  },
  {
   "cell_type": "code",
   "execution_count": null,
   "metadata": {},
   "outputs": [],
   "source": []
  },
  {
   "cell_type": "code",
   "execution_count": null,
   "metadata": {},
   "outputs": [],
   "source": [
    "user_agent = {'User-agent': 'Mozilla/5.0'}\n",
    "key = '?X-TBA-Auth-Key=nkRpKyrwQU3P6XtznbFVHyq57mGz3N6e4kYUCwjigdBR6C50VYZ8FoKngBIySCiU'\n",
    "def add_oprs(average_match_dict):\n",
    "    for i in list(average_match_dict):\n",
    "        try:\n",
    "            print(i)\n",
    "            event = i.split(\" \")[0]\n",
    "            team = i.split(\" \")[1][3:]\n",
    "            req = urllib.request.Request(\"https://www.thebluealliance.com/api/v3/event/2019\" +event+\"/oprs\" + key, headers = user_agent)\n",
    "            with urllib.request.urlopen(req) as url:\n",
    "                data = json.loads(url.read().decode())\n",
    "            arr = list(average_match_dict[event+\" frc\"+team])\n",
    "            arr.append(data['oprs']['frc'+team])\n",
    "            #arr.append(data['dprs']['frc'+team])\n",
    "            #arr.append(data['ccwms']['frc'+team])\n",
    "            average_match_dict[i] = np.asarray(arr)\n",
    "        except:\n",
    "            del average_match_dict[i]\n",
    "    return average_match_dict"
   ]
  },
  {
   "cell_type": "code",
   "execution_count": null,
   "metadata": {},
   "outputs": [],
   "source": [
    "def get_opr(team,event):\n",
    "    req = urllib.request.Request(\"https://www.thebluealliance.com/api/v3/event/2019\" +event+\"/oprs\" + key, headers = user_agent)\n",
    "    with urllib.request.urlopen(req) as url:\n",
    "        data = json.loads(url.read().decode())\n",
    "    try:\n",
    "        return data['oprs'][team]\n",
    "    except:\n",
    "        return 0.0"
   ]
  },
  {
   "cell_type": "code",
   "execution_count": null,
   "metadata": {},
   "outputs": [],
   "source": [
    "def add_average_event_data(average_match_dict_with_oprs):\n",
    "    new_dict = {}\n",
    "    for key in list(average_match_dict_with_oprs):\n",
    "        try:\n",
    "            event = key.split(\" \")[0]\n",
    "            team = key.split(\" \")[1][3:]\n",
    "            arr = np.asarray(list(average_match_dict_with_oprs[event+\" frc\"+team]))\n",
    "            arr2 = np.asarray(get_average_data_event(event))\n",
    "            print(arr2)\n",
    "            temp = np.zeros(57)\n",
    "            temp = arr-arr2\n",
    "            new_arr = np.concatenate((arr,temp),axis = None)\n",
    "            new_dict[key] = new_arr\n",
    "            print(key)\n",
    "            print(new_dict[key])\n",
    "        except:\n",
    "            del average_match_dict_with_oprs[key]\n",
    "    return new_dict"
   ]
  },
  {
   "cell_type": "code",
   "execution_count": null,
   "metadata": {
    "scrolled": true
   },
   "outputs": [],
   "source": [
    "average_match_dict_with_oprs =  add_oprs(average_match_dict)\n"
   ]
  },
  {
   "cell_type": "code",
   "execution_count": null,
   "metadata": {},
   "outputs": [],
   "source": []
  },
  {
   "cell_type": "code",
   "execution_count": null,
   "metadata": {},
   "outputs": [],
   "source": [
    "import numpy as np\n",
    "arr = np.asarray([2,3])\n",
    "arr2 = np.asarray([4,5])\n",
    "print(np.concatenate((arr, arr2), axis=None))"
   ]
  },
  {
   "cell_type": "code",
   "execution_count": null,
   "metadata": {},
   "outputs": [],
   "source": [
    "np.save('temp_dict.npy',average_match_dict_with_oprs)"
   ]
  },
  {
   "cell_type": "code",
   "execution_count": null,
   "metadata": {},
   "outputs": [],
   "source": [
    "average_match_dict_with_oprs = np.load('temp_dict.npy',allow_pickle = True).item()"
   ]
  },
  {
   "cell_type": "code",
   "execution_count": null,
   "metadata": {},
   "outputs": [],
   "source": [
    "average_match_dict_with_oprs['caelk frc1072']"
   ]
  },
  {
   "cell_type": "code",
   "execution_count": null,
   "metadata": {
    "scrolled": true
   },
   "outputs": [],
   "source": [
    "average_match_dict_with_oprs_with_event_averages = add_average_event_data(average_match_dict_with_oprs)"
   ]
  },
  {
   "cell_type": "code",
   "execution_count": null,
   "metadata": {},
   "outputs": [],
   "source": [
    "average_match_dict_defense_with_event_averages  = "
   ]
  },
  {
   "cell_type": "code",
   "execution_count": null,
   "metadata": {},
   "outputs": [],
   "source": [
    "len(average_match_dict_with_oprs_with_event_averages['cada frc1072'])"
   ]
  },
  {
   "cell_type": "code",
   "execution_count": null,
   "metadata": {},
   "outputs": [],
   "source": [
    "np.save('average match dict(oprs and event averages).npy', average_match_dict_with_oprs_with_event_averages)"
   ]
  },
  {
   "cell_type": "code",
   "execution_count": null,
   "metadata": {
    "scrolled": true
   },
   "outputs": [],
   "source": [
    "average_match_dict_with_oprs_defense = add_oprs_dprs_ccwms(match_dict_defense_averaged)\n"
   ]
  },
  {
   "cell_type": "code",
   "execution_count": null,
   "metadata": {},
   "outputs": [],
   "source": [
    "len(average_match_dict_with_oprs_defense['caelk frc1072'])"
   ]
  },
  {
   "cell_type": "code",
   "execution_count": null,
   "metadata": {},
   "outputs": [],
   "source": [
    "np.save('alliance_dictionary(revised defense).npy',g)\n",
    "np.save('match_dictionary(revised defense).npy',average_match_dict_with_oprs_defense)"
   ]
  },
  {
   "cell_type": "code",
   "execution_count": null,
   "metadata": {},
   "outputs": [],
   "source": [
    "def get_average_data_event(eventid):\n",
    "    user_agent = {'User-agent': 'Mozilla/5.0'}\n",
    "    key = '?X-TBA-Auth-Key=nkRpKyrwQU3P6XtznbFVHyq57mGz3N6e4kYUCwjigdBR6C50VYZ8FoKngBIySCiU'\n",
    "    req = urllib.request.Request(\"https://www.thebluealliance.com/api/v3/event/2019\" + eventid+\"/insights\" + key, headers = user_agent)\n",
    "    with urllib.request.urlopen(req) as url:\n",
    "        insights = json.loads(url.read().decode())\n",
    "    qual_dict = insights['qual']\n",
    "    average_score = qual_dict['average_score']\n",
    "    average_hab_start = 1.666\n",
    "    bay1_preh = qual_dict['average_cargo_ship_hatch_panel_preload_count'][0]/100\n",
    "    bay1_prec = qual_dict['average_cargo_ship_cargo_preload_count'][0]/100\n",
    "    bay2_preh = qual_dict['average_cargo_ship_hatch_panel_preload_count'][1]/100\n",
    "    bay2_prec = qual_dict['average_cargo_ship_cargo_preload_count'][1]/100\n",
    "    bay3_preh = qual_dict['average_cargo_ship_hatch_panel_preload_count'][2]/100\n",
    "    bay3_prec = qual_dict['average_cargo_ship_cargo_preload_count'][2]/100\n",
    "    bay6_preh = qual_dict['average_cargo_ship_hatch_panel_preload_count'][3]/100\n",
    "    bay6_prec = qual_dict['average_cargo_ship_cargo_preload_count'][3]/100\n",
    "    bay7_preh = qual_dict['average_cargo_ship_hatch_panel_preload_count'][4]/100\n",
    "    bay7_prec = qual_dict['average_cargo_ship_cargo_preload_count'][4]/100\n",
    "    bay8_preh = qual_dict['average_cargo_ship_hatch_panel_preload_count'][5]/100\n",
    "    bay8_prec = qual_dict['average_cargo_ship_cargo_preload_count'][5]/100\n",
    "    bay1h = qual_dict['average_cargo_ship_hatch_panel_count'][0]/100\n",
    "    bay1c = qual_dict['average_cargo_ship_cargo_count'][0]/100\n",
    "    bay2h = qual_dict['average_cargo_ship_hatch_panel_count'][1]/100\n",
    "    bay2c = qual_dict['average_cargo_ship_cargo_count'][1]/100\n",
    "    bay3h = qual_dict['average_cargo_ship_hatch_panel_count'][2]/100\n",
    "    bay3c = qual_dict['average_cargo_ship_cargo_count'][2]/100\n",
    "    bay4h = qual_dict['average_cargo_ship_hatch_panel_count'][3]/100\n",
    "    bay4c = qual_dict['average_cargo_ship_cargo_count'][3]/100\n",
    "    bay5h = qual_dict['average_cargo_ship_hatch_panel_count'][4]/100\n",
    "    bay5c = qual_dict['average_cargo_ship_cargo_count'][4]/100\n",
    "    bay6h = qual_dict['average_cargo_ship_hatch_panel_count'][5]/100\n",
    "    bay6c = qual_dict['average_cargo_ship_cargo_count'][5]/100\n",
    "    bay7h = qual_dict['average_cargo_ship_hatch_panel_count'][6]/100\n",
    "    bay7c = qual_dict['average_cargo_ship_cargo_count'][6]/100\n",
    "    bay8h = qual_dict['average_cargo_ship_hatch_panel_count'][7]/100\n",
    "    bay8c = qual_dict['average_cargo_ship_cargo_count'][7]/100\n",
    "    average_climb = (qual_dict['level1_climb_count'][2]\n",
    "        +qual_dict['level2_climb_count'][2]*2\n",
    "        +qual_dict['level3_climb_count'][2]*3)/qual_dict['level1_climb_count'][1]\n",
    "    llrfh = qual_dict['average_rocket_hatch_panel_count']['lowLeftFar']/100\n",
    "    llrfc = qual_dict['average_rocket_cargo_count']['lowLeftFar']/100\n",
    "    llrnh = qual_dict['average_rocket_hatch_panel_count']['lowLeftNear']/100\n",
    "    llrnc = qual_dict['average_rocket_cargo_count']['lowLeftNear']/100\n",
    "    lrrfh = qual_dict['average_rocket_hatch_panel_count']['lowRightFar']/100\n",
    "    lrrfc = qual_dict['average_rocket_cargo_count']['lowRightFar']/100\n",
    "    lrrnh = qual_dict['average_rocket_hatch_panel_count']['lowRightNear']/100\n",
    "    lrrnc = qual_dict['average_rocket_cargo_count']['lowRightNear']/100\n",
    "    mlrfh = qual_dict['average_rocket_hatch_panel_count']['midLeftFar']/100\n",
    "    mlrfc = qual_dict['average_rocket_cargo_count']['midLeftFar']/100\n",
    "    mlrnh = qual_dict['average_rocket_hatch_panel_count']['midLeftNear']/100\n",
    "    mlrnc = qual_dict['average_rocket_cargo_count']['midLeftNear']/100\n",
    "    mrrfh = qual_dict['average_rocket_hatch_panel_count']['midRightFar']/100\n",
    "    mrrfc = qual_dict['average_rocket_cargo_count']['midRightFar']/100\n",
    "    mrrnh = qual_dict['average_rocket_hatch_panel_count']['midRightNear']/100\n",
    "    mrrnc = qual_dict['average_rocket_cargo_count']['midRightNear']/100\n",
    "    tlrfh = qual_dict['average_rocket_hatch_panel_count']['topLeftFar']/100\n",
    "    tlrfc = qual_dict['average_rocket_cargo_count']['topLeftFar']/100\n",
    "    tlrnh = qual_dict['average_rocket_hatch_panel_count']['topLeftNear']/100\n",
    "    tlrnc = qual_dict['average_rocket_cargo_count']['topLeftNear']/100\n",
    "    trrfh = qual_dict['average_rocket_hatch_panel_count']['topRightFar']/100\n",
    "    trrfc = qual_dict['average_rocket_cargo_count']['topRightFar']/100\n",
    "    trrnh = qual_dict['average_rocket_hatch_panel_count']['topRightNear']/100\n",
    "    trrnc = qual_dict['average_rocket_cargo_count']['topRightNear']/100\n",
    "    average_auton = qual_dict['average_sandstorm_bonus_auto']\n",
    "    average_oprs = 0\n",
    "    req = urllib.request.Request(\"https://www.thebluealliance.com/api/v3/event/2019\" + eventid+\"/oprs\" + key, headers = user_agent)\n",
    "    with urllib.request.urlopen(req) as url:\n",
    "        dicts = json.loads(url.read().decode())\n",
    "    opr_dict = dicts['oprs']\n",
    "    for team in opr_dict:\n",
    "        average_oprs = average_oprs + opr_dict[team]\n",
    "    average_oprs = average_oprs/len(opr_dict)\n",
    "    \n",
    "    event_data = [average_score,average_hab_start,average_auton,bay1_preh,bay1_prec,bay2_preh,bay2_prec,bay3_preh,bay3_prec,\n",
    "                 bay6_preh,bay6_prec,bay7_preh,bay7_prec,bay8_preh,bay8_prec,bay1h,bay1c,bay2h,bay2c,bay3h,bay3c,bay4h,bay4c,\n",
    "                 bay5h,bay5c,bay6h,bay6c,bay7h,bay7c,bay8h,bay8c,average_climb,llrfh,llrfc,llrnh,llrnc,lrrfh,lrrfc,lrrnh,lrrnc,mlrfh,mlrfc\n",
    "                      ,mlrnh,mlrnc,mrrfh,mrrfc,mrrnh,mrrnc,tlrfh,tlrfc,tlrnh,tlrnc,trrfh,trrfc,trrnh,trrnc,average_oprs]\n",
    "    return event_data\n",
    "    \n",
    "    \n",
    "    \n",
    "    "
   ]
  },
  {
   "cell_type": "code",
   "execution_count": null,
   "metadata": {},
   "outputs": [],
   "source": [
    "get_average_data_event('abca')"
   ]
  },
  {
   "cell_type": "code",
   "execution_count": null,
   "metadata": {
    "scrolled": true
   },
   "outputs": [],
   "source": [
    "matches = []\n",
    "req = urllib.request.Request(\"https://www.thebluealliance.com/api/v3/event/2019caelk/matches/keys\" + key, headers = user_agent)\n",
    "with urllib.request.urlopen(req) as url:\n",
    "    matchids = json.loads(url.read().decode())\n",
    "ccc_match_data = get_matches_data(matchids)"
   ]
  },
  {
   "cell_type": "code",
   "execution_count": null,
   "metadata": {
    "scrolled": true
   },
   "outputs": [],
   "source": [
    "ccc_match_dict = convert_match_data_to_dict_offense(ccc_match_data)\n",
    "ccc_match_dict_averaged  = average_dict(ccc_match_dict)\n",
    "ccc_match_dict_averaged_with_oprs = add_oprs(ccc_match_dict_averaged)\n",
    "ccc_match_dict_with_average_event_data = add_average_event_data_for_comp(ccc_match_dict_averaged_with_oprs)\n",
    "#print(ccc_match_dict_with_average_event_data)"
   ]
  },
  {
   "cell_type": "code",
   "execution_count": null,
   "metadata": {},
   "outputs": [],
   "source": [
    "ccc_match_dict_with_average_event_data['caelk frc1072']"
   ]
  },
  {
   "cell_type": "code",
   "execution_count": null,
   "metadata": {},
   "outputs": [],
   "source": [
    "np.save('ccc_match_dict(large).npy',ccc_match_dict_with_average_event_data)"
   ]
  },
  {
   "cell_type": "code",
   "execution_count": null,
   "metadata": {},
   "outputs": [],
   "source": [
    "ccc_match_data[0]"
   ]
  },
  {
   "cell_type": "code",
   "execution_count": null,
   "metadata": {},
   "outputs": [],
   "source": [
    "def add_average_event_data_for_comp(ccc_match_dict_averaged_with_oprs):\n",
    "    new_dict = {}\n",
    "    new_arr = np.zeros(57)\n",
    "    for key in list(ccc_match_dict_averaged_with_oprs):\n",
    "        new_arr  = new_arr + np.asarray(ccc_match_dict_averaged_with_oprs[key])\n",
    "    new_arr = new_arr/len(ccc_match_dict_averaged_with_oprs)\n",
    "    for key in list(ccc_match_dict_averaged_with_oprs):\n",
    "        new_dict[key] = np.concatenate((ccc_match_dict_averaged_with_oprs[key], ccc_match_dict_averaged_with_oprs[key]-new_arr), axis = None)\n",
    "    return new_dict\n",
    "\n",
    "\n"
   ]
  },
  {
   "cell_type": "code",
   "execution_count": null,
   "metadata": {},
   "outputs": [],
   "source": []
  }
 ],
 "metadata": {
  "kernelspec": {
   "display_name": "Python 3 (ipykernel)",
   "language": "python",
   "name": "python3"
  },
  "language_info": {
   "codemirror_mode": {
    "name": "ipython",
    "version": 3
   },
   "file_extension": ".py",
   "mimetype": "text/x-python",
   "name": "python",
   "nbconvert_exporter": "python",
   "pygments_lexer": "ipython3",
   "version": "3.9.7"
  }
 },
 "nbformat": 4,
 "nbformat_minor": 2
}
