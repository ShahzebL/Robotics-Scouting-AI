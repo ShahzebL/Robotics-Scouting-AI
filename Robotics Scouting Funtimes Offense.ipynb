{
 "cells": [
  {
   "cell_type": "code",
   "execution_count": 1,
   "metadata": {},
   "outputs": [],
   "source": [
    "import tensorflow as tf\n",
    "from tensorflow import keras\n",
    "import numpy as np\n",
    "\n",
    "import os\n",
    "os.environ['TF_CPP_MIN_LOG_LEVEL'] = '3' "
   ]
  },
  {
   "cell_type": "code",
   "execution_count": 2,
   "metadata": {},
   "outputs": [],
   "source": [
    "from tensorflow import keras"
   ]
  },
  {
   "cell_type": "code",
   "execution_count": 9,
   "metadata": {},
   "outputs": [],
   "source": [
    "from tensorflow.keras.models import Sequential\n",
    "from tensorflow.keras.layers import Dense\n",
    "from tensorflow.keras.layers import Activation\n",
    "model = keras.Sequential([\n",
    "    Dense(30, input_shape=(114,)),\n",
    "    Activation('relu'),\n",
    "    Dense(1),\n",
    "    Activation('relu')\n",
    "])"
   ]
  },
  {
   "cell_type": "code",
   "execution_count": 4,
   "metadata": {},
   "outputs": [
    {
     "ename": "NameError",
     "evalue": "name 'alliance_data_events' is not defined",
     "output_type": "error",
     "traceback": [
      "\u001b[0;31m---------------------------------------------------------------------------\u001b[0m",
      "\u001b[0;31mNameError\u001b[0m                                 Traceback (most recent call last)",
      "\u001b[0;32m<ipython-input-4-b796822b0647>\u001b[0m in \u001b[0;36m<module>\u001b[0;34m\u001b[0m\n\u001b[0;32m----> 1\u001b[0;31m \u001b[0;34m[\u001b[0m\u001b[0malliance_data_events\u001b[0m\u001b[0;34m[\u001b[0m\u001b[0;34m'cafr 1072'\u001b[0m\u001b[0;34m.\u001b[0m\u001b[0msplit\u001b[0m\u001b[0;34m(\u001b[0m\u001b[0;34m\" \"\u001b[0m\u001b[0;34m)\u001b[0m\u001b[0;34m[\u001b[0m\u001b[0;36m1\u001b[0m\u001b[0;34m]\u001b[0m\u001b[0;34m]\u001b[0m\u001b[0;34m.\u001b[0m\u001b[0mindex\u001b[0m\u001b[0;34m(\u001b[0m\u001b[0;34m'cafr'\u001b[0m\u001b[0;34m.\u001b[0m\u001b[0msplit\u001b[0m\u001b[0;34m(\u001b[0m\u001b[0;34m\" \"\u001b[0m\u001b[0;34m)\u001b[0m\u001b[0;34m[\u001b[0m\u001b[0;36m0\u001b[0m\u001b[0;34m]\u001b[0m\u001b[0;34m)\u001b[0m\u001b[0;34m+\u001b[0m\u001b[0;36m1\u001b[0m\u001b[0;34m]\u001b[0m\u001b[0;34m\u001b[0m\u001b[0;34m\u001b[0m\u001b[0m\n\u001b[0m\u001b[1;32m      2\u001b[0m \u001b[0mteam\u001b[0m \u001b[0;34m=\u001b[0m \u001b[0;34m'cafr 1072'\u001b[0m\u001b[0;34m.\u001b[0m\u001b[0msplit\u001b[0m\u001b[0;34m(\u001b[0m\u001b[0;34m\" \"\u001b[0m\u001b[0;34m)\u001b[0m\u001b[0;34m[\u001b[0m\u001b[0;36m1\u001b[0m\u001b[0;34m]\u001b[0m\u001b[0;34m\u001b[0m\u001b[0;34m\u001b[0m\u001b[0m\n\u001b[1;32m      3\u001b[0m \u001b[0mevent\u001b[0m \u001b[0;34m=\u001b[0m \u001b[0;34m'cafr 1072'\u001b[0m\u001b[0;34m.\u001b[0m\u001b[0msplit\u001b[0m\u001b[0;34m(\u001b[0m\u001b[0;34m\" \"\u001b[0m\u001b[0;34m)\u001b[0m\u001b[0;34m[\u001b[0m\u001b[0;36m0\u001b[0m\u001b[0;34m]\u001b[0m\u001b[0;34m\u001b[0m\u001b[0;34m\u001b[0m\u001b[0m\n\u001b[1;32m      4\u001b[0m \u001b[0malliance_data_events\u001b[0m\u001b[0;34m[\u001b[0m\u001b[0mteam\u001b[0m\u001b[0;34m]\u001b[0m\u001b[0;34m[\u001b[0m\u001b[0malliance_data_events\u001b[0m\u001b[0;34m[\u001b[0m\u001b[0mteam\u001b[0m\u001b[0;34m]\u001b[0m\u001b[0;34m.\u001b[0m\u001b[0mindex\u001b[0m\u001b[0;34m(\u001b[0m\u001b[0mevent\u001b[0m\u001b[0;34m)\u001b[0m\u001b[0;34m+\u001b[0m\u001b[0;36m1\u001b[0m\u001b[0;34m]\u001b[0m\u001b[0;34m\u001b[0m\u001b[0;34m\u001b[0m\u001b[0m\n\u001b[1;32m      5\u001b[0m \u001b[0;34m\u001b[0m\u001b[0m\n",
      "\u001b[0;31mNameError\u001b[0m: name 'alliance_data_events' is not defined"
     ]
    }
   ],
   "source": [
    "[alliance_data_events['cafr 1072'.split(\" \")[1]].index('cafr'.split(\" \")[0])+1]\n",
    "team = 'cafr 1072'.split(\" \")[1]\n",
    "event = 'cafr 1072'.split(\" \")[0]\n",
    "alliance_data_events[team][alliance_data_events[team].index(event)+1]\n",
    "                     "
   ]
  },
  {
   "cell_type": "code",
   "execution_count": 6,
   "metadata": {},
   "outputs": [],
   "source": [
    "import numpy as np\n",
    "alliance_labels = np.load('alliance_dictionary(revised).npy',allow_pickle=True).item()\n",
    "match_dict = np.load('average match dict(oprs and event averages).npy',allow_pickle = True).item()"
   ]
  },
  {
   "cell_type": "code",
   "execution_count": 6,
   "metadata": {},
   "outputs": [
    {
     "name": "stdout",
     "output_type": "stream",
     "text": [
      "1160\n",
      "[ 5.69375000e+01  1.81250000e+00  1.38750000e+01  1.00000000e+00\n",
      "  0.00000000e+00  1.00000000e+00  0.00000000e+00  1.00000000e+00\n",
      "  0.00000000e+00  9.37500000e-01  6.25000000e-02  9.37500000e-01\n",
      "  6.25000000e-02  9.37500000e-01  6.25000000e-02  1.00000000e+00\n",
      "  6.25000000e-01  1.00000000e+00  6.25000000e-01  1.00000000e+00\n",
      "  7.50000000e-01  4.37500000e-01  4.37500000e-01  5.62500000e-01\n",
      "  5.00000000e-01  9.37500000e-01  9.37500000e-01  9.37500000e-01\n",
      "  9.37500000e-01  9.37500000e-01  8.12500000e-01  6.25000000e-01\n",
      "  3.12500000e-01  1.87500000e-01  3.75000000e-01  1.87500000e-01\n",
      "  2.50000000e-01  1.25000000e-01  3.12500000e-01  1.25000000e-01\n",
      "  1.25000000e-01  1.25000000e-01  2.50000000e-01  1.25000000e-01\n",
      "  1.25000000e-01  6.25000000e-02  1.87500000e-01  6.25000000e-02\n",
      "  0.00000000e+00  0.00000000e+00  0.00000000e+00  0.00000000e+00\n",
      "  0.00000000e+00  0.00000000e+00  0.00000000e+00  0.00000000e+00\n",
      "  1.73935800e+01  1.18094512e+01  1.46500000e-01  1.65548780e+00\n",
      "  1.82926829e-02 -1.82926829e-02  3.04878049e-02 -3.04878049e-02\n",
      "  1.34146341e-01 -1.34146341e-01  6.55487805e-02 -6.55487805e-02\n",
      " -1.37195122e-02  1.37195122e-02 -7.62195122e-03  7.62195122e-03\n",
      "  1.21951220e-02  1.49390244e-01  2.43902439e-02  3.04878049e-03\n",
      "  1.21951220e-01  1.46341463e-01  4.72560976e-02  1.69207317e-01\n",
      "  6.85975610e-02  1.82926829e-01  4.72560976e-02  2.97256098e-01\n",
      " -1.98170732e-02  3.58231707e-01 -7.62195122e-03  3.06402439e-01\n",
      "  4.20921740e-01  1.66158537e-01  1.14329268e-01  2.74390244e-02\n",
      "  1.20426829e-01  9.14634146e-02  3.35365854e-02 -2.89634146e-02\n",
      "  6.40243902e-02  6.40243902e-02  7.62195122e-02  1.09756098e-01\n",
      "  8.23170732e-02  5.18292683e-02  1.52439024e-03  2.28658537e-02\n",
      "  1.98170732e-02 -6.70731707e-02 -3.65853659e-02 -9.75609756e-02\n",
      " -3.65853659e-02 -5.48780488e-02 -3.04878049e-02 -1.09756098e-01\n",
      " -3.65853659e-02  2.35493750e+00]\n"
     ]
    }
   ],
   "source": [
    "#abca 359 for alliance\n",
    "#abca frc5015 for match_dict\n",
    "print(alliance_labels['cafr 1072'])\n",
    "print(match_dict['cafr frc1072'])"
   ]
  },
  {
   "cell_type": "code",
   "execution_count": 14,
   "metadata": {},
   "outputs": [
    {
     "data": {
      "text/plain": [
       "325"
      ]
     },
     "execution_count": 14,
     "metadata": {},
     "output_type": "execute_result"
    }
   ],
   "source": [
    "#hop frc1072\n",
    "#data\n",
    "#hop 1072\n",
    "#labels"
   ]
  },
  {
   "cell_type": "code",
   "execution_count": 7,
   "metadata": {},
   "outputs": [],
   "source": [
    "data = []\n",
    "labels = []\n",
    "'''file = open('Robotics Scouting Funtimes(large).csv')\n",
    "\n",
    "lines = file.readlines()\n",
    "for k in range(30):\n",
    "    words = lines[k].split(',')\n",
    "    for i in range(19):\n",
    "        words[i] = float(words[i])\n",
    "    data.append(np.asarray(words[:-1]))\n",
    "    labels.append(words[-1])\n",
    "'''\n",
    "\n",
    "for key in match_dict:\n",
    "    try:\n",
    "        team = key.split(\" \")[1][3:]\n",
    "        event = key.split(\" \")[0]\n",
    "        labels.append(alliance_labels[event+\" \"+team])\n",
    "        data.append(match_dict[key])\n",
    "    except:\n",
    "        pass\n",
    "        \n",
    "    \n",
    "data = np.asarray(data)\n",
    "labels = np.asarray(labels)\n"
   ]
  },
  {
   "cell_type": "code",
   "execution_count": 8,
   "metadata": {},
   "outputs": [
    {
     "data": {
      "text/plain": [
       "5536"
      ]
     },
     "execution_count": 8,
     "metadata": {},
     "output_type": "execute_result"
    }
   ],
   "source": [
    "len(labels)"
   ]
  },
  {
   "cell_type": "code",
   "execution_count": 9,
   "metadata": {},
   "outputs": [
    {
     "name": "stdout",
     "output_type": "stream",
     "text": [
      "[ 9.14615385e+01  2.00000000e+00  1.50000000e+01  9.23076923e-01\n",
      "  7.69230769e-02  3.07692308e-01  6.92307692e-01  4.61538462e-01\n",
      "  5.38461538e-01  5.38461538e-01  4.61538462e-01  8.46153846e-01\n",
      "  1.53846154e-01  1.00000000e+00  0.00000000e+00  1.00000000e+00\n",
      "  5.38461538e-01  6.15384615e-01  6.15384615e-01  9.23076923e-01\n",
      "  9.23076923e-01  5.38461538e-01  4.61538462e-01  4.61538462e-01\n",
      "  4.61538462e-01  7.69230769e-01  5.38461538e-01  8.46153846e-01\n",
      "  6.15384615e-01  1.00000000e+00  6.15384615e-01  2.23076923e+00\n",
      "  8.46153846e-01  6.15384615e-01  9.23076923e-01  8.46153846e-01\n",
      "  9.23076923e-01  6.92307692e-01  8.46153846e-01  8.46153846e-01\n",
      "  5.38461538e-01  3.84615385e-01  8.46153846e-01  6.92307692e-01\n",
      "  5.38461538e-01  3.84615385e-01  8.46153846e-01  7.69230769e-01\n",
      "  4.61538462e-01  2.30769231e-01  5.38461538e-01  4.61538462e-01\n",
      "  5.38461538e-01  3.07692308e-01  6.15384615e-01  4.61538462e-01\n",
      "  4.34730428e+01  1.40843455e+01  3.34000000e-01  1.09210526e+00\n",
      " -4.18353576e-02  4.18353576e-02 -6.08974359e-01  6.08974359e-01\n",
      " -2.57759784e-01  2.57759784e-01 -1.72064777e-01  1.72064777e-01\n",
      " -1.34952767e-02  1.34952767e-02  3.07017544e-02 -3.07017544e-02\n",
      "  4.38596491e-03 -1.28205128e-01 -3.53913630e-01 -1.69703104e-01\n",
      "  2.02429150e-03  1.81848853e-01 -1.63292848e-01 -1.61268556e-01\n",
      " -2.44601889e-01 -1.70040486e-01 -1.38663968e-01 -2.02766532e-01\n",
      " -9.68286100e-02 -1.34615385e-01  8.77192982e-03 -5.56680162e-02\n",
      "  1.99009689e+00  1.44399460e-01  9.34547908e-02  1.68690958e-01\n",
      "  3.37381916e-01  2.78340081e-01  1.65991903e-01  1.00539811e-01\n",
      "  3.15452092e-01  1.43724696e-01  9.51417004e-02  3.76855601e-01\n",
      "  3.89676113e-01  1.43724696e-01  1.03913630e-01  3.54925776e-01\n",
      "  5.06072874e-01  1.76450742e-01  3.34008097e-02  1.91970310e-01\n",
      "  2.72941970e-01  2.48987854e-01  1.05937922e-01  2.64507422e-01\n",
      "  2.59784076e-01  1.77035712e+01]\n",
      "1750\n",
      "5536\n",
      "5536\n"
     ]
    }
   ],
   "source": [
    "print(data[57])\n",
    "print(labels[57])\n",
    "print(len(data))\n",
    "print(len(labels))"
   ]
  },
  {
   "cell_type": "code",
   "execution_count": 925,
   "metadata": {},
   "outputs": [],
   "source": []
  },
  {
   "cell_type": "code",
   "execution_count": 23,
   "metadata": {},
   "outputs": [
    {
     "data": {
      "text/plain": [
       "5703"
      ]
     },
     "execution_count": 23,
     "metadata": {},
     "output_type": "execute_result"
    }
   ],
   "source": [
    "len(data)"
   ]
  },
  {
   "cell_type": "code",
   "execution_count": null,
   "metadata": {},
   "outputs": [],
   "source": []
  },
  {
   "cell_type": "code",
   "execution_count": 56,
   "metadata": {
    "scrolled": true
   },
   "outputs": [
    {
     "data": {
      "text/plain": [
       "array([6.49375000e+01, 1.00000000e+00, 1.25625000e+01, 1.00000000e+00,\n",
       "       0.00000000e+00, 1.00000000e+00, 0.00000000e+00, 9.37500000e-01,\n",
       "       6.25000000e-02, 8.75000000e-01, 1.25000000e-01, 1.00000000e+00,\n",
       "       0.00000000e+00, 1.00000000e+00, 0.00000000e+00, 1.00000000e+00,\n",
       "       7.50000000e-01, 1.00000000e+00, 9.37500000e-01, 1.00000000e+00,\n",
       "       7.50000000e-01, 9.37500000e-01, 8.75000000e-01, 8.75000000e-01,\n",
       "       8.12500000e-01, 8.75000000e-01, 7.50000000e-01, 1.00000000e+00,\n",
       "       1.00000000e+00, 1.00000000e+00, 8.12500000e-01, 2.81250000e+00,\n",
       "       5.00000000e-01, 1.87500000e-01, 5.00000000e-01, 1.87500000e-01,\n",
       "       6.25000000e-01, 1.87500000e-01, 4.37500000e-01, 1.25000000e-01,\n",
       "       1.25000000e-01, 6.25000000e-02, 1.25000000e-01, 1.25000000e-01,\n",
       "       1.87500000e-01, 0.00000000e+00, 1.87500000e-01, 1.25000000e-01,\n",
       "       1.25000000e-01, 0.00000000e+00, 6.25000000e-02, 0.00000000e+00,\n",
       "       1.25000000e-01, 0.00000000e+00, 0.00000000e+00, 0.00000000e+00,\n",
       "       2.94708995e+01, 9.93669079e+00, 1.95342088e+01])"
      ]
     },
     "execution_count": 56,
     "metadata": {},
     "output_type": "execute_result"
    }
   ],
   "source": [
    "data[0]"
   ]
  },
  {
   "cell_type": "code",
   "execution_count": 84,
   "metadata": {
    "scrolled": false
   },
   "outputs": [
    {
     "data": {
      "text/plain": [
       "80"
      ]
     },
     "execution_count": 84,
     "metadata": {},
     "output_type": "execute_result"
    }
   ],
   "source": [
    "labels[0]"
   ]
  },
  {
   "cell_type": "code",
   "execution_count": 10,
   "metadata": {
    "scrolled": true
   },
   "outputs": [
    {
     "name": "stdout",
     "output_type": "stream",
     "text": [
      "Train on 5536 samples\n",
      "Epoch 1/500000\n",
      "5536/5536 [==============================] - 1s 126us/sample - loss: 211784.6921 - mae: 362.4261\n",
      "Epoch 2/500000\n",
      "5536/5536 [==============================] - 0s 72us/sample - loss: 90816.6740 - mae: 199.6668\n",
      "Epoch 3/500000\n",
      "5536/5536 [==============================] - 0s 67us/sample - loss: 53786.7983 - mae: 163.4488\n",
      "Epoch 4/500000\n",
      "5536/5536 [==============================] - 0s 58us/sample - loss: 51020.3762 - mae: 163.6283\n",
      "Epoch 5/500000\n",
      "5536/5536 [==============================] - 0s 63us/sample - loss: 49356.6504 - mae: 159.9276\n",
      "Epoch 6/500000\n",
      "5536/5536 [==============================] - 0s 73us/sample - loss: 47653.3388 - mae: 156.2436\n",
      "Epoch 7/500000\n",
      "5536/5536 [==============================] - 0s 73us/sample - loss: 46250.8650 - mae: 153.0267\n",
      "Epoch 8/500000\n",
      "5536/5536 [==============================] - 1s 104us/sample - loss: 45244.8908 - mae: 151.5179\n",
      "Epoch 9/500000\n",
      "5536/5536 [==============================] - 1s 94us/sample - loss: 44589.8041 - mae: 150.2608\n",
      "Epoch 10/500000\n",
      "5536/5536 [==============================] - 1s 99us/sample - loss: 43992.9663 - mae: 149.2934\n",
      "Epoch 11/500000\n",
      "5536/5536 [==============================] - 0s 76us/sample - loss: 43461.2325 - mae: 147.7582\n",
      "Epoch 12/500000\n",
      "5536/5536 [==============================] - 0s 73us/sample - loss: 42923.2742 - mae: 146.2157\n",
      "Epoch 13/500000\n",
      "5536/5536 [==============================] - 1s 94us/sample - loss: 42470.2894 - mae: 145.1676\n",
      "Epoch 14/500000\n",
      "5536/5536 [==============================] - 0s 77us/sample - loss: 42118.9310 - mae: 144.2543\n",
      "Epoch 15/500000\n",
      "5536/5536 [==============================] - 1s 98us/sample - loss: 41781.2790 - mae: 143.2141\n",
      "Epoch 16/500000\n",
      "5536/5536 [==============================] - 1s 106us/sample - loss: 41496.9241 - mae: 142.2448\n",
      "Epoch 17/500000\n",
      "5536/5536 [==============================] - 0s 76us/sample - loss: 41296.1152 - mae: 142.2211\n",
      "Epoch 18/500000\n",
      "5536/5536 [==============================] - 0s 87us/sample - loss: 41030.5668 - mae: 141.4125\n",
      "Epoch 19/500000\n",
      "5536/5536 [==============================] - 0s 77us/sample - loss: 40864.6167 - mae: 140.7867\n",
      "Epoch 20/500000\n",
      "5536/5536 [==============================] - 0s 74us/sample - loss: 40775.2466 - mae: 140.4389\n",
      "Epoch 21/500000\n",
      "5536/5536 [==============================] - 0s 82us/sample - loss: 40608.2646 - mae: 140.4804\n",
      "Epoch 22/500000\n",
      "5536/5536 [==============================] - 0s 90us/sample - loss: 40517.6440 - mae: 139.7905\n",
      "Epoch 23/500000\n",
      "5536/5536 [==============================] - 1s 196us/sample - loss: 40391.8429 - mae: 139.8800\n",
      "Epoch 24/500000\n",
      "5536/5536 [==============================] - 0s 88us/sample - loss: 40271.7351 - mae: 139.4879\n",
      "Epoch 25/500000\n",
      "5536/5536 [==============================] - 0s 89us/sample - loss: 40252.9051 - mae: 139.3794\n",
      "Epoch 26/500000\n",
      "5536/5536 [==============================] - 0s 89us/sample - loss: 40105.2799 - mae: 139.0006\n",
      "Epoch 27/500000\n",
      "5536/5536 [==============================] - 0s 80us/sample - loss: 40033.7972 - mae: 139.0071\n",
      "Epoch 28/500000\n",
      "5536/5536 [==============================] - 0s 81us/sample - loss: 39947.0323 - mae: 139.0466\n",
      "Epoch 29/500000\n",
      "5536/5536 [==============================] - 0s 84us/sample - loss: 39919.1298 - mae: 138.7680\n",
      "Epoch 30/500000\n",
      "5536/5536 [==============================] - 0s 78us/sample - loss: 39815.4989 - mae: 138.3683\n",
      "Epoch 31/500000\n",
      "5536/5536 [==============================] - 0s 87us/sample - loss: 39775.5775 - mae: 138.5518\n",
      "Epoch 32/500000\n",
      "5536/5536 [==============================] - 1s 102us/sample - loss: 39735.8758 - mae: 138.4419\n",
      "Epoch 33/500000\n",
      "5536/5536 [==============================] - 1s 104us/sample - loss: 39654.9655 - mae: 138.3005\n",
      "Epoch 34/500000\n",
      "5536/5536 [==============================] - 1s 109us/sample - loss: 39616.5036 - mae: 138.1605\n",
      "Epoch 35/500000\n",
      "5536/5536 [==============================] - 1s 106us/sample - loss: 39590.4219 - mae: 138.0460\n",
      "Epoch 36/500000\n",
      "5536/5536 [==============================] - 1s 108us/sample - loss: 39506.7499 - mae: 138.0582\n",
      "Epoch 37/500000\n",
      "2848/5536 [==============>...............] - ETA: 0s - loss: 39985.3021 - mae: 138.9729"
     ]
    },
    {
     "ename": "KeyboardInterrupt",
     "evalue": "",
     "output_type": "error",
     "traceback": [
      "\u001b[0;31m---------------------------------------------------------------------------\u001b[0m",
      "\u001b[0;31mKeyboardInterrupt\u001b[0m                         Traceback (most recent call last)",
      "\u001b[0;32m<ipython-input-10-74440f9f9d39>\u001b[0m in \u001b[0;36m<module>\u001b[0;34m\u001b[0m\n\u001b[1;32m      1\u001b[0m \u001b[0mmodel\u001b[0m\u001b[0;34m.\u001b[0m\u001b[0mcompile\u001b[0m\u001b[0;34m(\u001b[0m\u001b[0mloss\u001b[0m\u001b[0;34m=\u001b[0m\u001b[0;34m'mse'\u001b[0m\u001b[0;34m,\u001b[0m \u001b[0moptimizer\u001b[0m\u001b[0;34m=\u001b[0m\u001b[0;34m'adam'\u001b[0m\u001b[0;34m,\u001b[0m \u001b[0mmetrics\u001b[0m\u001b[0;34m=\u001b[0m\u001b[0;34m[\u001b[0m\u001b[0;34m'mae'\u001b[0m\u001b[0;34m]\u001b[0m\u001b[0;34m)\u001b[0m\u001b[0;34m\u001b[0m\u001b[0;34m\u001b[0m\u001b[0m\n\u001b[0;32m----> 2\u001b[0;31m \u001b[0mmodel\u001b[0m\u001b[0;34m.\u001b[0m\u001b[0mfit\u001b[0m\u001b[0;34m(\u001b[0m\u001b[0mdata\u001b[0m\u001b[0;34m,\u001b[0m \u001b[0mlabels\u001b[0m\u001b[0;34m,\u001b[0m \u001b[0mepochs\u001b[0m\u001b[0;34m=\u001b[0m\u001b[0;36m500000\u001b[0m\u001b[0;34m)\u001b[0m\u001b[0;34m\u001b[0m\u001b[0;34m\u001b[0m\u001b[0m\n\u001b[0m",
      "\u001b[0;32m~/venv/lib/python3.7/site-packages/tensorflow_core/python/keras/engine/training.py\u001b[0m in \u001b[0;36mfit\u001b[0;34m(self, x, y, batch_size, epochs, verbose, callbacks, validation_split, validation_data, shuffle, class_weight, sample_weight, initial_epoch, steps_per_epoch, validation_steps, validation_freq, max_queue_size, workers, use_multiprocessing, **kwargs)\u001b[0m\n\u001b[1;32m    726\u001b[0m         \u001b[0mmax_queue_size\u001b[0m\u001b[0;34m=\u001b[0m\u001b[0mmax_queue_size\u001b[0m\u001b[0;34m,\u001b[0m\u001b[0;34m\u001b[0m\u001b[0;34m\u001b[0m\u001b[0m\n\u001b[1;32m    727\u001b[0m         \u001b[0mworkers\u001b[0m\u001b[0;34m=\u001b[0m\u001b[0mworkers\u001b[0m\u001b[0;34m,\u001b[0m\u001b[0;34m\u001b[0m\u001b[0;34m\u001b[0m\u001b[0m\n\u001b[0;32m--> 728\u001b[0;31m         use_multiprocessing=use_multiprocessing)\n\u001b[0m\u001b[1;32m    729\u001b[0m \u001b[0;34m\u001b[0m\u001b[0m\n\u001b[1;32m    730\u001b[0m   def evaluate(self,\n",
      "\u001b[0;32m~/venv/lib/python3.7/site-packages/tensorflow_core/python/keras/engine/training_v2.py\u001b[0m in \u001b[0;36mfit\u001b[0;34m(self, model, x, y, batch_size, epochs, verbose, callbacks, validation_split, validation_data, shuffle, class_weight, sample_weight, initial_epoch, steps_per_epoch, validation_steps, validation_freq, **kwargs)\u001b[0m\n\u001b[1;32m    322\u001b[0m                 \u001b[0mmode\u001b[0m\u001b[0;34m=\u001b[0m\u001b[0mModeKeys\u001b[0m\u001b[0;34m.\u001b[0m\u001b[0mTRAIN\u001b[0m\u001b[0;34m,\u001b[0m\u001b[0;34m\u001b[0m\u001b[0;34m\u001b[0m\u001b[0m\n\u001b[1;32m    323\u001b[0m                 \u001b[0mtraining_context\u001b[0m\u001b[0;34m=\u001b[0m\u001b[0mtraining_context\u001b[0m\u001b[0;34m,\u001b[0m\u001b[0;34m\u001b[0m\u001b[0;34m\u001b[0m\u001b[0m\n\u001b[0;32m--> 324\u001b[0;31m                 total_epochs=epochs)\n\u001b[0m\u001b[1;32m    325\u001b[0m             \u001b[0mcbks\u001b[0m\u001b[0;34m.\u001b[0m\u001b[0mmake_logs\u001b[0m\u001b[0;34m(\u001b[0m\u001b[0mmodel\u001b[0m\u001b[0;34m,\u001b[0m \u001b[0mepoch_logs\u001b[0m\u001b[0;34m,\u001b[0m \u001b[0mtraining_result\u001b[0m\u001b[0;34m,\u001b[0m \u001b[0mModeKeys\u001b[0m\u001b[0;34m.\u001b[0m\u001b[0mTRAIN\u001b[0m\u001b[0;34m)\u001b[0m\u001b[0;34m\u001b[0m\u001b[0;34m\u001b[0m\u001b[0m\n\u001b[1;32m    326\u001b[0m \u001b[0;34m\u001b[0m\u001b[0m\n",
      "\u001b[0;32m~/venv/lib/python3.7/site-packages/tensorflow_core/python/keras/engine/training_v2.py\u001b[0m in \u001b[0;36mrun_one_epoch\u001b[0;34m(model, iterator, execution_function, dataset_size, batch_size, strategy, steps_per_epoch, num_samples, mode, training_context, total_epochs)\u001b[0m\n\u001b[1;32m    121\u001b[0m         step=step, mode=mode, size=current_batch_size) as batch_logs:\n\u001b[1;32m    122\u001b[0m       \u001b[0;32mtry\u001b[0m\u001b[0;34m:\u001b[0m\u001b[0;34m\u001b[0m\u001b[0;34m\u001b[0m\u001b[0m\n\u001b[0;32m--> 123\u001b[0;31m         \u001b[0mbatch_outs\u001b[0m \u001b[0;34m=\u001b[0m \u001b[0mexecution_function\u001b[0m\u001b[0;34m(\u001b[0m\u001b[0miterator\u001b[0m\u001b[0;34m)\u001b[0m\u001b[0;34m\u001b[0m\u001b[0;34m\u001b[0m\u001b[0m\n\u001b[0m\u001b[1;32m    124\u001b[0m       \u001b[0;32mexcept\u001b[0m \u001b[0;34m(\u001b[0m\u001b[0mStopIteration\u001b[0m\u001b[0;34m,\u001b[0m \u001b[0merrors\u001b[0m\u001b[0;34m.\u001b[0m\u001b[0mOutOfRangeError\u001b[0m\u001b[0;34m)\u001b[0m\u001b[0;34m:\u001b[0m\u001b[0;34m\u001b[0m\u001b[0;34m\u001b[0m\u001b[0m\n\u001b[1;32m    125\u001b[0m         \u001b[0;31m# TODO(kaftan): File bug about tf function and errors.OutOfRangeError?\u001b[0m\u001b[0;34m\u001b[0m\u001b[0;34m\u001b[0m\u001b[0;34m\u001b[0m\u001b[0m\n",
      "\u001b[0;32m~/venv/lib/python3.7/site-packages/tensorflow_core/python/keras/engine/training_v2_utils.py\u001b[0m in \u001b[0;36mexecution_function\u001b[0;34m(input_fn)\u001b[0m\n\u001b[1;32m     84\u001b[0m     \u001b[0;31m# `numpy` translates Tensors to values in Eager mode.\u001b[0m\u001b[0;34m\u001b[0m\u001b[0;34m\u001b[0m\u001b[0;34m\u001b[0m\u001b[0m\n\u001b[1;32m     85\u001b[0m     return nest.map_structure(_non_none_constant_value,\n\u001b[0;32m---> 86\u001b[0;31m                               distributed_function(input_fn))\n\u001b[0m\u001b[1;32m     87\u001b[0m \u001b[0;34m\u001b[0m\u001b[0m\n\u001b[1;32m     88\u001b[0m   \u001b[0;32mreturn\u001b[0m \u001b[0mexecution_function\u001b[0m\u001b[0;34m\u001b[0m\u001b[0;34m\u001b[0m\u001b[0m\n",
      "\u001b[0;32m~/venv/lib/python3.7/site-packages/tensorflow_core/python/eager/def_function.py\u001b[0m in \u001b[0;36m__call__\u001b[0;34m(self, *args, **kwds)\u001b[0m\n\u001b[1;32m    455\u001b[0m \u001b[0;34m\u001b[0m\u001b[0m\n\u001b[1;32m    456\u001b[0m     \u001b[0mtracing_count\u001b[0m \u001b[0;34m=\u001b[0m \u001b[0mself\u001b[0m\u001b[0;34m.\u001b[0m\u001b[0m_get_tracing_count\u001b[0m\u001b[0;34m(\u001b[0m\u001b[0;34m)\u001b[0m\u001b[0;34m\u001b[0m\u001b[0;34m\u001b[0m\u001b[0m\n\u001b[0;32m--> 457\u001b[0;31m     \u001b[0mresult\u001b[0m \u001b[0;34m=\u001b[0m \u001b[0mself\u001b[0m\u001b[0;34m.\u001b[0m\u001b[0m_call\u001b[0m\u001b[0;34m(\u001b[0m\u001b[0;34m*\u001b[0m\u001b[0margs\u001b[0m\u001b[0;34m,\u001b[0m \u001b[0;34m**\u001b[0m\u001b[0mkwds\u001b[0m\u001b[0;34m)\u001b[0m\u001b[0;34m\u001b[0m\u001b[0;34m\u001b[0m\u001b[0m\n\u001b[0m\u001b[1;32m    458\u001b[0m     \u001b[0;32mif\u001b[0m \u001b[0mtracing_count\u001b[0m \u001b[0;34m==\u001b[0m \u001b[0mself\u001b[0m\u001b[0;34m.\u001b[0m\u001b[0m_get_tracing_count\u001b[0m\u001b[0;34m(\u001b[0m\u001b[0;34m)\u001b[0m\u001b[0;34m:\u001b[0m\u001b[0;34m\u001b[0m\u001b[0;34m\u001b[0m\u001b[0m\n\u001b[1;32m    459\u001b[0m       \u001b[0mself\u001b[0m\u001b[0;34m.\u001b[0m\u001b[0m_call_counter\u001b[0m\u001b[0;34m.\u001b[0m\u001b[0mcalled_without_tracing\u001b[0m\u001b[0;34m(\u001b[0m\u001b[0;34m)\u001b[0m\u001b[0;34m\u001b[0m\u001b[0;34m\u001b[0m\u001b[0m\n",
      "\u001b[0;32m~/venv/lib/python3.7/site-packages/tensorflow_core/python/eager/def_function.py\u001b[0m in \u001b[0;36m_call\u001b[0;34m(self, *args, **kwds)\u001b[0m\n\u001b[1;32m    485\u001b[0m       \u001b[0;31m# In this case we have created variables on the first call, so we run the\u001b[0m\u001b[0;34m\u001b[0m\u001b[0;34m\u001b[0m\u001b[0;34m\u001b[0m\u001b[0m\n\u001b[1;32m    486\u001b[0m       \u001b[0;31m# defunned version which is guaranteed to never create variables.\u001b[0m\u001b[0;34m\u001b[0m\u001b[0;34m\u001b[0m\u001b[0;34m\u001b[0m\u001b[0m\n\u001b[0;32m--> 487\u001b[0;31m       \u001b[0;32mreturn\u001b[0m \u001b[0mself\u001b[0m\u001b[0;34m.\u001b[0m\u001b[0m_stateless_fn\u001b[0m\u001b[0;34m(\u001b[0m\u001b[0;34m*\u001b[0m\u001b[0margs\u001b[0m\u001b[0;34m,\u001b[0m \u001b[0;34m**\u001b[0m\u001b[0mkwds\u001b[0m\u001b[0;34m)\u001b[0m  \u001b[0;31m# pylint: disable=not-callable\u001b[0m\u001b[0;34m\u001b[0m\u001b[0;34m\u001b[0m\u001b[0m\n\u001b[0m\u001b[1;32m    488\u001b[0m     \u001b[0;32melif\u001b[0m \u001b[0mself\u001b[0m\u001b[0;34m.\u001b[0m\u001b[0m_stateful_fn\u001b[0m \u001b[0;32mis\u001b[0m \u001b[0;32mnot\u001b[0m \u001b[0;32mNone\u001b[0m\u001b[0;34m:\u001b[0m\u001b[0;34m\u001b[0m\u001b[0;34m\u001b[0m\u001b[0m\n\u001b[1;32m    489\u001b[0m       \u001b[0;31m# Release the lock early so that multiple threads can perform the call\u001b[0m\u001b[0;34m\u001b[0m\u001b[0;34m\u001b[0m\u001b[0;34m\u001b[0m\u001b[0m\n",
      "\u001b[0;32m~/venv/lib/python3.7/site-packages/tensorflow_core/python/eager/function.py\u001b[0m in \u001b[0;36m__call__\u001b[0;34m(self, *args, **kwargs)\u001b[0m\n\u001b[1;32m   1821\u001b[0m     \u001b[0;34m\"\"\"Calls a graph function specialized to the inputs.\"\"\"\u001b[0m\u001b[0;34m\u001b[0m\u001b[0;34m\u001b[0m\u001b[0m\n\u001b[1;32m   1822\u001b[0m     \u001b[0mgraph_function\u001b[0m\u001b[0;34m,\u001b[0m \u001b[0margs\u001b[0m\u001b[0;34m,\u001b[0m \u001b[0mkwargs\u001b[0m \u001b[0;34m=\u001b[0m \u001b[0mself\u001b[0m\u001b[0;34m.\u001b[0m\u001b[0m_maybe_define_function\u001b[0m\u001b[0;34m(\u001b[0m\u001b[0margs\u001b[0m\u001b[0;34m,\u001b[0m \u001b[0mkwargs\u001b[0m\u001b[0;34m)\u001b[0m\u001b[0;34m\u001b[0m\u001b[0;34m\u001b[0m\u001b[0m\n\u001b[0;32m-> 1823\u001b[0;31m     \u001b[0;32mreturn\u001b[0m \u001b[0mgraph_function\u001b[0m\u001b[0;34m.\u001b[0m\u001b[0m_filtered_call\u001b[0m\u001b[0;34m(\u001b[0m\u001b[0margs\u001b[0m\u001b[0;34m,\u001b[0m \u001b[0mkwargs\u001b[0m\u001b[0;34m)\u001b[0m  \u001b[0;31m# pylint: disable=protected-access\u001b[0m\u001b[0;34m\u001b[0m\u001b[0;34m\u001b[0m\u001b[0m\n\u001b[0m\u001b[1;32m   1824\u001b[0m \u001b[0;34m\u001b[0m\u001b[0m\n\u001b[1;32m   1825\u001b[0m   \u001b[0;34m@\u001b[0m\u001b[0mproperty\u001b[0m\u001b[0;34m\u001b[0m\u001b[0;34m\u001b[0m\u001b[0m\n",
      "\u001b[0;32m~/venv/lib/python3.7/site-packages/tensorflow_core/python/eager/function.py\u001b[0m in \u001b[0;36m_filtered_call\u001b[0;34m(self, args, kwargs)\u001b[0m\n\u001b[1;32m   1139\u001b[0m          if isinstance(t, (ops.Tensor,\n\u001b[1;32m   1140\u001b[0m                            resource_variable_ops.BaseResourceVariable))),\n\u001b[0;32m-> 1141\u001b[0;31m         self.captured_inputs)\n\u001b[0m\u001b[1;32m   1142\u001b[0m \u001b[0;34m\u001b[0m\u001b[0m\n\u001b[1;32m   1143\u001b[0m   \u001b[0;32mdef\u001b[0m \u001b[0m_call_flat\u001b[0m\u001b[0;34m(\u001b[0m\u001b[0mself\u001b[0m\u001b[0;34m,\u001b[0m \u001b[0margs\u001b[0m\u001b[0;34m,\u001b[0m \u001b[0mcaptured_inputs\u001b[0m\u001b[0;34m,\u001b[0m \u001b[0mcancellation_manager\u001b[0m\u001b[0;34m=\u001b[0m\u001b[0;32mNone\u001b[0m\u001b[0;34m)\u001b[0m\u001b[0;34m:\u001b[0m\u001b[0;34m\u001b[0m\u001b[0;34m\u001b[0m\u001b[0m\n",
      "\u001b[0;32m~/venv/lib/python3.7/site-packages/tensorflow_core/python/eager/function.py\u001b[0m in \u001b[0;36m_call_flat\u001b[0;34m(self, args, captured_inputs, cancellation_manager)\u001b[0m\n\u001b[1;32m   1222\u001b[0m     \u001b[0;32mif\u001b[0m \u001b[0mexecuting_eagerly\u001b[0m\u001b[0;34m:\u001b[0m\u001b[0;34m\u001b[0m\u001b[0;34m\u001b[0m\u001b[0m\n\u001b[1;32m   1223\u001b[0m       flat_outputs = forward_function.call(\n\u001b[0;32m-> 1224\u001b[0;31m           ctx, args, cancellation_manager=cancellation_manager)\n\u001b[0m\u001b[1;32m   1225\u001b[0m     \u001b[0;32melse\u001b[0m\u001b[0;34m:\u001b[0m\u001b[0;34m\u001b[0m\u001b[0;34m\u001b[0m\u001b[0m\n\u001b[1;32m   1226\u001b[0m       \u001b[0mgradient_name\u001b[0m \u001b[0;34m=\u001b[0m \u001b[0mself\u001b[0m\u001b[0;34m.\u001b[0m\u001b[0m_delayed_rewrite_functions\u001b[0m\u001b[0;34m.\u001b[0m\u001b[0mregister\u001b[0m\u001b[0;34m(\u001b[0m\u001b[0;34m)\u001b[0m\u001b[0;34m\u001b[0m\u001b[0;34m\u001b[0m\u001b[0m\n",
      "\u001b[0;32m~/venv/lib/python3.7/site-packages/tensorflow_core/python/eager/function.py\u001b[0m in \u001b[0;36mcall\u001b[0;34m(self, ctx, args, cancellation_manager)\u001b[0m\n\u001b[1;32m    509\u001b[0m               \u001b[0minputs\u001b[0m\u001b[0;34m=\u001b[0m\u001b[0margs\u001b[0m\u001b[0;34m,\u001b[0m\u001b[0;34m\u001b[0m\u001b[0;34m\u001b[0m\u001b[0m\n\u001b[1;32m    510\u001b[0m               \u001b[0mattrs\u001b[0m\u001b[0;34m=\u001b[0m\u001b[0;34m(\u001b[0m\u001b[0;34m\"executor_type\"\u001b[0m\u001b[0;34m,\u001b[0m \u001b[0mexecutor_type\u001b[0m\u001b[0;34m,\u001b[0m \u001b[0;34m\"config_proto\"\u001b[0m\u001b[0;34m,\u001b[0m \u001b[0mconfig\u001b[0m\u001b[0;34m)\u001b[0m\u001b[0;34m,\u001b[0m\u001b[0;34m\u001b[0m\u001b[0;34m\u001b[0m\u001b[0m\n\u001b[0;32m--> 511\u001b[0;31m               ctx=ctx)\n\u001b[0m\u001b[1;32m    512\u001b[0m         \u001b[0;32melse\u001b[0m\u001b[0;34m:\u001b[0m\u001b[0;34m\u001b[0m\u001b[0;34m\u001b[0m\u001b[0m\n\u001b[1;32m    513\u001b[0m           outputs = execute.execute_with_cancellation(\n",
      "\u001b[0;32m~/venv/lib/python3.7/site-packages/tensorflow_core/python/eager/execute.py\u001b[0m in \u001b[0;36mquick_execute\u001b[0;34m(op_name, num_outputs, inputs, attrs, ctx, name)\u001b[0m\n\u001b[1;32m     59\u001b[0m     tensors = pywrap_tensorflow.TFE_Py_Execute(ctx._handle, device_name,\n\u001b[1;32m     60\u001b[0m                                                \u001b[0mop_name\u001b[0m\u001b[0;34m,\u001b[0m \u001b[0minputs\u001b[0m\u001b[0;34m,\u001b[0m \u001b[0mattrs\u001b[0m\u001b[0;34m,\u001b[0m\u001b[0;34m\u001b[0m\u001b[0;34m\u001b[0m\u001b[0m\n\u001b[0;32m---> 61\u001b[0;31m                                                num_outputs)\n\u001b[0m\u001b[1;32m     62\u001b[0m   \u001b[0;32mexcept\u001b[0m \u001b[0mcore\u001b[0m\u001b[0;34m.\u001b[0m\u001b[0m_NotOkStatusException\u001b[0m \u001b[0;32mas\u001b[0m \u001b[0me\u001b[0m\u001b[0;34m:\u001b[0m\u001b[0;34m\u001b[0m\u001b[0;34m\u001b[0m\u001b[0m\n\u001b[1;32m     63\u001b[0m     \u001b[0;32mif\u001b[0m \u001b[0mname\u001b[0m \u001b[0;32mis\u001b[0m \u001b[0;32mnot\u001b[0m \u001b[0;32mNone\u001b[0m\u001b[0;34m:\u001b[0m\u001b[0;34m\u001b[0m\u001b[0;34m\u001b[0m\u001b[0m\n",
      "\u001b[0;31mKeyboardInterrupt\u001b[0m: "
     ]
    }
   ],
   "source": [
    "model.compile(loss='mse', optimizer='adam', metrics=['mae'])\n",
    "model.fit(data, labels, epochs=500000)"
   ]
  },
  {
   "cell_type": "code",
   "execution_count": null,
   "metadata": {},
   "outputs": [],
   "source": []
  },
  {
   "cell_type": "code",
   "execution_count": 1025,
   "metadata": {},
   "outputs": [],
   "source": [
    "data = np.load(\"CCC match data for training.npy\",allow_pickle=True)"
   ]
  },
  {
   "cell_type": "code",
   "execution_count": null,
   "metadata": {},
   "outputs": [],
   "source": []
  },
  {
   "cell_type": "code",
   "execution_count": 686,
   "metadata": {},
   "outputs": [
    {
     "data": {
      "text/plain": [
       "array([[1145.3971]], dtype=float32)"
      ]
     },
     "execution_count": 686,
     "metadata": {},
     "output_type": "execute_result"
    }
   ],
   "source": [
    "dank = match_dict['cafr 1072']\n",
    "'''dank = [73.5,  1. , 13.2,  1. ,  0. ,  1. ,  0. ,  1. ,  0. ,  0.5,  0.5,\n",
    "        0.8,  0.2,  1. ,  0. ,  1. ,  0.6,  1. ,  0.6,  1. ,  0.7,  0.5,\n",
    "        0.4,  0.2,  0.2,  0.9,  0.7,  0.8,  0.6,  1. ,  0.5,  1.7,  0.7,\n",
    "        0.4,  0.5,  0.4,  0.7,  0.5,  0.5,  0.4,  0.5,  0.5,  0.6,  0.6,\n",
    "        0.5,  0.5,  0.6,  0.6,  0.3,  0.3,  0.4,  0.3,  0.5,  0.3,  0.3,\n",
    "        0.2]'''\n",
    "dank = np.asarray([np.asarray(dank)])\n",
    "np.reshape(dank,(56,))\n",
    "model.predict(dank)"
   ]
  },
  {
   "cell_type": "code",
   "execution_count": 687,
   "metadata": {},
   "outputs": [
    {
     "data": {
      "text/plain": [
       "('cada', 1160, 'caelk', 600, 'cafr', 1160, 'hop', 325, '', 20)"
      ]
     },
     "execution_count": 687,
     "metadata": {},
     "output_type": "execute_result"
    }
   ],
   "source": [
    "alliance_data_events['1072']"
   ]
  },
  {
   "cell_type": "code",
   "execution_count": 11,
   "metadata": {},
   "outputs": [],
   "source": [
    "import urllib.request, json, requests\n",
    "def rank_teams(match_dict):\n",
    "    d = {}\n",
    "    for team in match_dict:\n",
    "        dank = np.reshape(np.asarray(np.asarray(match_dict[team])),(114,1))\n",
    "        dank = dank.T\n",
    "        if team.split(\" \")[1] == 'frc1072':\n",
    "            d[team+\" fake\"] = 10720\n",
    "        d[team] = model.predict(dank)\n",
    "    return sorted(d.items(), key = \n",
    "             lambda kv:(kv[1], kv[0]))  \n",
    "\n",
    "            \n",
    "      "
   ]
  },
  {
   "cell_type": "code",
   "execution_count": 1058,
   "metadata": {},
   "outputs": [
    {
     "data": {
      "text/plain": [
       "array([57.4,  1.9, 13.8,  1. ,  0. ,  1. ,  0. ,  1. ,  0. ,  1. ,  0. ,\n",
       "        1. ,  0. ,  1. ,  0. ,  1. ,  0.5,  1. ,  0.7,  1. ,  0.8,  0.5,\n",
       "        0.4,  0.5,  0.3,  1. ,  0.6,  1. ,  0.6,  1. ,  0.5,  0.9,  0.5,\n",
       "        0.1,  0.8,  0.4,  0.5,  0.1,  0.8,  0.4,  0.4,  0. ,  0.4,  0. ,\n",
       "        0.3,  0. ,  0.4,  0. ,  0.2,  0.2,  0. ,  0. ,  0.3,  0.1,  0. ,\n",
       "        0. ])"
      ]
     },
     "execution_count": 1058,
     "metadata": {},
     "output_type": "execute_result"
    }
   ],
   "source": [
    "ccc_match_dict['caelk frc1072']"
   ]
  },
  {
   "cell_type": "code",
   "execution_count": 74,
   "metadata": {},
   "outputs": [],
   "source": [
    "test = (np.reshape(np.asarray(np.asarray(match_dict['hop frc1072'])), (114,1)))"
   ]
  },
  {
   "cell_type": "code",
   "execution_count": 75,
   "metadata": {},
   "outputs": [
    {
     "name": "stdout",
     "output_type": "stream",
     "text": [
      "(1, 114)\n"
     ]
    }
   ],
   "source": [
    "test = test.T\n",
    "print(test.shape)"
   ]
  },
  {
   "cell_type": "code",
   "execution_count": 77,
   "metadata": {},
   "outputs": [
    {
     "data": {
      "text/plain": [
       "array([[120.79628]], dtype=float32)"
      ]
     },
     "execution_count": 77,
     "metadata": {},
     "output_type": "execute_result"
    }
   ],
   "source": [
    "model.predict(test)"
   ]
  },
  {
   "cell_type": "code",
   "execution_count": 12,
   "metadata": {},
   "outputs": [],
   "source": [
    "import urllib.request, json, requests\n",
    "def rank_teams_new(event):\n",
    "    d = {}\n",
    "    user_agent = {'User-agent': 'Mozilla/5.0'}\n",
    "    key = '?X-TBA-Auth-Key=nkRpKyrwQU3P6XtznbFVHyq57mGz3N6e4kYUCwjigdBR6C50VYZ8FoKngBIySCiU'\n",
    "    req = urllib.request.Request(\"https://www.thebluealliance.com/api/v3/event/\" + event + \"/teams/keys\" + key, headers = user_agent)\n",
    "    with urllib.request.urlopen(req) as url:\n",
    "        temp = []\n",
    "        data = json.loads(url.read().decode())\n",
    "        for team in data:\n",
    "            try:\n",
    "                dank = np.reshape(np.asarray(np.asarray(match_dict[event[4:] + \" \" + team])),(114,1))\n",
    "                dank = dank.T\n",
    "                d[team] = model.predict(dank)\n",
    "            except:\n",
    "                pass\n",
    "    return sorted(d.items(), key = \n",
    "             lambda kv:(kv[1], kv[0]))  \n",
    "\n",
    "            \n",
    "      "
   ]
  },
  {
   "cell_type": "code",
   "execution_count": 13,
   "metadata": {},
   "outputs": [],
   "source": [
    "import urllib.request, json, requests\n",
    "def rank_teams_defense(event):\n",
    "    d = {}\n",
    "    user_agent = {'User-agent': 'Mozilla/5.0'}\n",
    "    key = '?X-TBA-Auth-Key=nkRpKyrwQU3P6XtznbFVHyq57mGz3N6e4kYUCwjigdBR6C50VYZ8FoKngBIySCiU'\n",
    "    req = urllib.request.Request(\"https://www.thebluealliance.com/api/v3/event/\" + event + \"/teams/keys\" + key, headers = user_agent)\n",
    "    with urllib.request.urlopen(req) as url:\n",
    "        temp = []\n",
    "        data = json.loads(url.read().decode())\n",
    "        for team in data:\n",
    "            try:\n",
    "                temp = team[3:]\n",
    "                dank = match_dict_defense_updated[event[4:]+\" \"+temp]\n",
    "                dank = np.asarray([np.asarray(dank)])\n",
    "                np.reshape(dank,(59,))\n",
    "                d[temp] = model.predict(dank)\n",
    "            except:\n",
    "                pass\n",
    "    return sorted(d.items(), key = \n",
    "             lambda kv:(kv[1], kv[0]))  \n",
    "\n",
    "            \n",
    "      "
   ]
  },
  {
   "cell_type": "code",
   "execution_count": 92,
   "metadata": {},
   "outputs": [
    {
     "name": "stdout",
     "output_type": "stream",
     "text": [
      "WARNING:tensorflow:From /Users/shahzeblakhani/venv/lib/python3.7/site-packages/tensorflow_core/python/ops/resource_variable_ops.py:1781: calling BaseResourceVariable.__init__ (from tensorflow.python.ops.resource_variable_ops) with constraint is deprecated and will be removed in a future version.\n",
      "Instructions for updating:\n",
      "If using Keras pass *_constraint arguments to layers.\n",
      "INFO:tensorflow:Assets written to: Testing new model large save/assets\n"
     ]
    }
   ],
   "source": [
    "from keras.models import load_model\n",
    "\n",
    "#model = model.save('Testing new model large.h5')  # creates a HDF5 file 'my_model.h5'\n",
    "#del model  # deletes the existing model\n",
    "\n",
    "# returns a compiled model\n",
    "# identical to the previous one\n",
    "#model = load_model('my_model.h5')\n",
    "#new_model = keras.models.load_model('../Downloads')\n",
    "model.save('Testing new model large save', save_format='tf')\n",
    "\n",
    "# Recreate the exact same model\n",
    "#new_model = keras.models.load_model('path_to_saved_model')\n",
    "\n"
   ]
  },
  {
   "cell_type": "code",
   "execution_count": 15,
   "metadata": {},
   "outputs": [
    {
     "data": {
      "text/plain": [
       "[('frc4707', array([[124.8067]], dtype=float32)),\n",
       " ('frc2708', array([[172.02614]], dtype=float32)),\n",
       " ('frc5512', array([[173.14919]], dtype=float32)),\n",
       " ('frc6317', array([[194.22678]], dtype=float32)),\n",
       " ('frc7589', array([[230.5247]], dtype=float32)),\n",
       " ('frc4150', array([[261.44864]], dtype=float32)),\n",
       " ('frc1660', array([[264.0189]], dtype=float32)),\n",
       " ('frc5860', array([[269.32742]], dtype=float32)),\n",
       " ('frc7858', array([[276.10428]], dtype=float32)),\n",
       " ('frc2526', array([[277.1481]], dtype=float32)),\n",
       " ('frc1188', array([[279.21823]], dtype=float32)),\n",
       " ('frc271', array([[280.28357]], dtype=float32)),\n",
       " ('frc7741', array([[296.27753]], dtype=float32)),\n",
       " ('frc141', array([[301.1096]], dtype=float32)),\n",
       " ('frc4956', array([[301.44946]], dtype=float32)),\n",
       " ('frc4311', array([[309.30753]], dtype=float32)),\n",
       " ('frc7650', array([[316.03137]], dtype=float32)),\n",
       " ('frc4325', array([[318.67252]], dtype=float32)),\n",
       " ('frc6802', array([[324.82526]], dtype=float32)),\n",
       " ('frc7617', array([[330.90903]], dtype=float32)),\n",
       " ('frc3770', array([[333.82016]], dtype=float32)),\n",
       " ('frc509', array([[334.18698]], dtype=float32)),\n",
       " ('frc4027', array([[338.23068]], dtype=float32)),\n",
       " ('frc3996', array([[339.71838]], dtype=float32)),\n",
       " ('frc6032', array([[347.42575]], dtype=float32)),\n",
       " ('frc3184', array([[350.12927]], dtype=float32)),\n",
       " ('frc384', array([[353.31583]], dtype=float32)),\n",
       " ('frc4004', array([[375.47473]], dtype=float32)),\n",
       " ('frc7605', array([[377.18417]], dtype=float32)),\n",
       " ('frc614', array([[384.0756]], dtype=float32)),\n",
       " ('frc1025', array([[387.2695]], dtype=float32)),\n",
       " ('frc2077', array([[388.6472]], dtype=float32)),\n",
       " ('frc5927', array([[388.89392]], dtype=float32)),\n",
       " ('frc1403', array([[400.95312]], dtype=float32)),\n",
       " ('frc3688', array([[404.83423]], dtype=float32)),\n",
       " ('frc1937', array([[407.1041]], dtype=float32)),\n",
       " ('frc564', array([[411.0986]], dtype=float32)),\n",
       " ('frc4391', array([[413.76175]], dtype=float32)),\n",
       " ('frc2852', array([[417.4569]], dtype=float32)),\n",
       " ('frc1322', array([[427.68234]], dtype=float32)),\n",
       " ('frc2577', array([[441.7284]], dtype=float32)),\n",
       " ('frc4976', array([[443.77045]], dtype=float32)),\n",
       " ('frc5404', array([[452.9273]], dtype=float32)),\n",
       " ('frc188', array([[458.21304]], dtype=float32)),\n",
       " ('frc3928', array([[488.61874]], dtype=float32)),\n",
       " ('frc1720', array([[489.712]], dtype=float32)),\n",
       " ('frc3015', array([[505.5565]], dtype=float32)),\n",
       " ('frc6591', array([[521.65424]], dtype=float32)),\n",
       " ('frc3534', array([[522.056]], dtype=float32)),\n",
       " ('frc5216', array([[564.1857]], dtype=float32)),\n",
       " ('frc222', array([[567.353]], dtype=float32)),\n",
       " ('frc5676', array([[596.61145]], dtype=float32)),\n",
       " ('frc4678', array([[599.0191]], dtype=float32)),\n",
       " ('frc2054', array([[638.30505]], dtype=float32)),\n",
       " ('frc4776', array([[663.07007]], dtype=float32)),\n",
       " ('frc2231', array([[689.0276]], dtype=float32)),\n",
       " ('frc1640', array([[736.11707]], dtype=float32)),\n",
       " ('frc930', array([[780.9292]], dtype=float32)),\n",
       " ('frc33', array([[887.2249]], dtype=float32)),\n",
       " ('frc1310', array([[892.0001]], dtype=float32)),\n",
       " ('frc2826', array([[894.67114]], dtype=float32)),\n",
       " ('frc2539', array([[910.28143]], dtype=float32)),\n",
       " ('frc5406', array([[944.1412]], dtype=float32)),\n",
       " ('frc910', array([[983.5128]], dtype=float32)),\n",
       " ('frc5687', array([[1015.3567]], dtype=float32)),\n",
       " ('frc1325', array([[1042.3789]], dtype=float32)),\n",
       " ('frc2481', array([[1062.8121]], dtype=float32)),\n",
       " ('frc5460', array([[1156.309]], dtype=float32))]"
      ]
     },
     "execution_count": 15,
     "metadata": {},
     "output_type": "execute_result"
    }
   ],
   "source": [
    "rank_teams_new('2019')"
   ]
  },
  {
   "cell_type": "code",
   "execution_count": 108,
   "metadata": {},
   "outputs": [],
   "source": [
    "ccc_match_dict = np.load('ccc_match_dict(large).npy',allow_pickle=True).item()"
   ]
  },
  {
   "cell_type": "code",
   "execution_count": 120,
   "metadata": {},
   "outputs": [
    {
     "data": {
      "text/plain": [
       "[('caelk frc4643', array([[146.01968]], dtype=float32)),\n",
       " ('caelk frc6814', array([[171.38824]], dtype=float32)),\n",
       " ('caelk frc1280', array([[173.72409]], dtype=float32)),\n",
       " ('caelk frc3598', array([[178.21663]], dtype=float32)),\n",
       " ('caelk frc5496', array([[190.00887]], dtype=float32)),\n",
       " ('caelk frc6662', array([[203.59158]], dtype=float32)),\n",
       " ('caelk frc2813', array([[205.38431]], dtype=float32)),\n",
       " ('caelk frc4123', array([[206.5933]], dtype=float32)),\n",
       " ('caelk frc701', array([[206.78313]], dtype=float32)),\n",
       " ('caelk frc6059', array([[215.24312]], dtype=float32)),\n",
       " ('caelk frc2035', array([[215.59056]], dtype=float32)),\n",
       " ('caelk frc4159', array([[216.38223]], dtype=float32)),\n",
       " ('caelk frc841', array([[220.46046]], dtype=float32)),\n",
       " ('caelk frc7667', array([[220.50862]], dtype=float32)),\n",
       " ('caelk frc7528', array([[227.80008]], dtype=float32)),\n",
       " ('caelk frc5250', array([[237.06761]], dtype=float32)),\n",
       " ('caelk frc5274', array([[238.53651]], dtype=float32)),\n",
       " ('caelk frc3925', array([[247.7745]], dtype=float32)),\n",
       " ('caelk frc2551', array([[253.24219]], dtype=float32)),\n",
       " ('caelk frc2135', array([[254.73296]], dtype=float32)),\n",
       " ('caelk frc4171', array([[259.3692]], dtype=float32)),\n",
       " ('caelk frc1967', array([[261.6683]], dtype=float32)),\n",
       " ('caelk frc4698', array([[265.24393]], dtype=float32)),\n",
       " ('caelk frc6918', array([[266.6444]], dtype=float32)),\n",
       " ('caelk frc5458', array([[272.81235]], dtype=float32)),\n",
       " ('caelk frc253', array([[283.48096]], dtype=float32)),\n",
       " ('caelk frc2085', array([[286.21423]], dtype=float32)),\n",
       " ('caelk frc3189', array([[287.29575]], dtype=float32)),\n",
       " ('caelk frc2643', array([[287.6389]], dtype=float32)),\n",
       " ('caelk frc3257', array([[324.5212]], dtype=float32)),\n",
       " ('caelk frc1662', array([[326.56094]], dtype=float32)),\n",
       " ('caelk frc1072', array([[340.9973]], dtype=float32)),\n",
       " ('caelk frc3250', array([[345.64267]], dtype=float32)),\n",
       " ('caelk frc5419', array([[366.44452]], dtype=float32)),\n",
       " ('caelk frc6174', array([[380.0254]], dtype=float32)),\n",
       " ('caelk frc4255', array([[407.6465]], dtype=float32)),\n",
       " ('caelk frc1425', array([[410.5888]], dtype=float32)),\n",
       " ('caelk frc199', array([[443.11566]], dtype=float32)),\n",
       " ('caelk frc1671', array([[492.76755]], dtype=float32)),\n",
       " ('caelk frc114', array([[524.6712]], dtype=float32)),\n",
       " ('caelk frc5940', array([[530.00885]], dtype=float32)),\n",
       " ('caelk frc3859', array([[612.41736]], dtype=float32)),\n",
       " ('caelk frc7419', array([[630.0416]], dtype=float32)),\n",
       " ('caelk frc2073', array([[847.7587]], dtype=float32)),\n",
       " ('caelk frc1678', array([[1230.0898]], dtype=float32)),\n",
       " ('caelk frc1072 fake', 10720)]"
      ]
     },
     "execution_count": 120,
     "metadata": {},
     "output_type": "execute_result"
    }
   ],
   "source": [
    "rank_teams(ccc_match_dict)"
   ]
  },
  {
   "cell_type": "code",
   "execution_count": null,
   "metadata": {},
   "outputs": [],
   "source": []
  }
 ],
 "metadata": {
  "kernelspec": {
   "display_name": "Python 3",
   "language": "python",
   "name": "python3"
  },
  "language_info": {
   "codemirror_mode": {
    "name": "ipython",
    "version": 3
   },
   "file_extension": ".py",
   "mimetype": "text/x-python",
   "name": "python",
   "nbconvert_exporter": "python",
   "pygments_lexer": "ipython3",
   "version": "3.7.4"
  }
 },
 "nbformat": 4,
 "nbformat_minor": 2
}
